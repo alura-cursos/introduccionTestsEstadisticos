{
  "nbformat": 4,
  "nbformat_minor": 0,
  "metadata": {
    "colab": {
      "name": "Copia de D2 Introducción a Tests Estadísticos.ipynb",
      "provenance": [],
      "collapsed_sections": [],
      "toc_visible": true
    },
    "kernelspec": {
      "name": "python3",
      "display_name": "Python 3"
    }
  },
  "cells": [
    {
      "cell_type": "code",
      "metadata": {
        "id": "i_OlV5mNNC-K",
        "colab_type": "code",
        "colab": {}
      },
      "source": [
        "import pandas as pd \n",
        "tmdb = pd.read_csv(\"tmdb_5000_movies.csv\")"
      ],
      "execution_count": 0,
      "outputs": []
    },
    {
      "cell_type": "code",
      "metadata": {
        "id": "99LjeYu7N5CJ",
        "colab_type": "code",
        "colab": {}
      },
      "source": [
        "tmdb.head(2)"
      ],
      "execution_count": 0,
      "outputs": []
    },
    {
      "cell_type": "code",
      "metadata": {
        "id": "cRbwXr_4N-TO",
        "colab_type": "code",
        "colab": {}
      },
      "source": [
        "tmdb.describe()"
      ],
      "execution_count": 0,
      "outputs": []
    },
    {
      "cell_type": "code",
      "metadata": {
        "id": "uLuXcjf2Ojzf",
        "colab_type": "code",
        "colab": {}
      },
      "source": [
        "import seaborn as sns"
      ],
      "execution_count": 0,
      "outputs": []
    },
    {
      "cell_type": "code",
      "metadata": {
        "id": "-TURxGKBPR5P",
        "colab_type": "code",
        "colab": {}
      },
      "source": [
        "ax = sns.distplot(tmdb.vote_average,\n",
        "             kde = False,\n",
        "             norm_hist = False)\n",
        "ax.set(xlabel = \"Nota Promedio\", ylabel = \"frecuencia\")\n",
        "ax.set_title(\"Grafico de distibución del Promedio de notas de TMDB\") "
      ],
      "execution_count": 0,
      "outputs": []
    },
    {
      "cell_type": "code",
      "metadata": {
        "id": "ZN-p3aBKPcXv",
        "colab_type": "code",
        "colab": {}
      },
      "source": [
        "sns.boxplot(tmdb.vote_average)"
      ],
      "execution_count": 0,
      "outputs": []
    },
    {
      "cell_type": "code",
      "metadata": {
        "colab_type": "code",
        "id": "Rbx7N2CqhGPy",
        "colab": {}
      },
      "source": [
        "tmdb_10_o_mas_votos = tmdb.query(\"vote_count >= 10\")\n",
        "tmdb_10_o_mas_votos.describe()"
      ],
      "execution_count": 0,
      "outputs": []
    },
    {
      "cell_type": "code",
      "metadata": {
        "id": "a8_fCfSbzeBp",
        "colab_type": "code",
        "colab": {}
      },
      "source": [
        "ax = sns.distplot(tmdb_10_o_mas_votos.vote_average)\n",
        "ax.set(xlabel = \"Nota Promedio\", ylabel = \"densidad\")\n",
        "ax.set_title(\"Grafico de distibución del Promedio de notas de TMDB\")"
      ],
      "execution_count": 0,
      "outputs": []
    },
    {
      "cell_type": "code",
      "metadata": {
        "id": "QvZtG3PphXmi",
        "colab_type": "code",
        "colab": {}
      },
      "source": [
        "ax = sns.distplot(tmdb_10_o_mas_votos.vote_average,\n",
        "             kde = False,\n",
        "             norm_hist = False)\n",
        "ax.set(xlabel = \"Nota Promedio\", ylabel = \"frecuencia\")\n",
        "ax.set_title(\"Grafico de distibución del Promedio de notas de TMDB\") "
      ],
      "execution_count": 0,
      "outputs": []
    },
    {
      "cell_type": "code",
      "metadata": {
        "id": "M6oGVToLheMR",
        "colab_type": "code",
        "colab": {}
      },
      "source": [
        "ax = sns.distplot(tmdb_10_o_mas_votos.vote_average)\n",
        "ax.set(xlabel = \"Nota Promedio\", ylabel = \"frecuencia\")\n",
        "ax.set_title(\"Grafico de distibución del Promedio de notas de TMDB\")"
      ],
      "execution_count": 0,
      "outputs": []
    },
    {
      "cell_type": "code",
      "metadata": {
        "id": "fI5LXadahh4i",
        "colab_type": "code",
        "colab": {}
      },
      "source": [
        "ax = sns.boxplot(tmdb_10_o_mas_votos.vote_average)\n",
        "ax.set(xlabel = \"Nota Promedio\")\n",
        "ax.set_title(\"Grafico de distibución del Promedio de notas de TMDB\")"
      ],
      "execution_count": 0,
      "outputs": []
    },
    {
      "cell_type": "code",
      "metadata": {
        "id": "LIwBrt92hu1T",
        "colab_type": "code",
        "colab": {}
      },
      "source": [
        "notas = pd.read_csv(\"ratings.csv\")\n",
        "notas.head()"
      ],
      "execution_count": 0,
      "outputs": []
    },
    {
      "cell_type": "code",
      "metadata": {
        "id": "zpLA0uyuiizF",
        "colab_type": "code",
        "colab": {}
      },
      "source": [
        "nota_promedio_por_pelicula = notas.groupby(\"movieId\").mean()[\"rating\"]\n",
        "nota_promedio_por_pelicula.head()"
      ],
      "execution_count": 0,
      "outputs": []
    },
    {
      "cell_type": "code",
      "metadata": {
        "id": "VVZGzv4Wi1YW",
        "colab_type": "code",
        "colab": {}
      },
      "source": [
        "sns.distplot(nota_promedio_por_pelicula.values)"
      ],
      "execution_count": 0,
      "outputs": []
    },
    {
      "cell_type": "code",
      "metadata": {
        "id": "BUA10yaujgc4",
        "colab_type": "code",
        "colab": {}
      },
      "source": [
        "cantidad_votos_por_pelicula = notas.groupby(\"movieId\").count()\n",
        "cantidad_votos_por_pelicula.head()"
      ],
      "execution_count": 0,
      "outputs": []
    },
    {
      "cell_type": "code",
      "metadata": {
        "id": "xDl4KndUkB7T",
        "colab_type": "code",
        "colab": {}
      },
      "source": [
        "peliculas_10_o_mas_votos = cantidad_votos_por_pelicula.query(\"rating >= 10\").index"
      ],
      "execution_count": 0,
      "outputs": []
    },
    {
      "cell_type": "code",
      "metadata": {
        "id": "MkUXseQSkd9W",
        "colab_type": "code",
        "colab": {}
      },
      "source": [
        "peliculas_10_o_mas_votos"
      ],
      "execution_count": 0,
      "outputs": []
    },
    {
      "cell_type": "code",
      "metadata": {
        "id": "8cJ0LcF5kiYG",
        "colab_type": "code",
        "colab": {}
      },
      "source": [
        "nota_promedio_por_pelicula_10_o_mas_votos = nota_promedio_por_pelicula.loc[peliculas_10_o_mas_votos.values]\n",
        "nota_promedio_por_pelicula_10_o_mas_votos.head()"
      ],
      "execution_count": 0,
      "outputs": []
    },
    {
      "cell_type": "code",
      "metadata": {
        "id": "8jjjz7Gmk_wj",
        "colab_type": "code",
        "colab": {}
      },
      "source": [
        "ax = sns.distplot(nota_promedio_por_pelicula_10_o_mas_votos.values)\n",
        "ax.set(xlabel = \"Nota Promedio\", ylabel = \"densidad\")\n",
        "ax.set_title(\"Grafico de distibución del Promedio de notas de Movielens\")"
      ],
      "execution_count": 0,
      "outputs": []
    },
    {
      "cell_type": "code",
      "metadata": {
        "id": "QpcvsBLMlQT0",
        "colab_type": "code",
        "colab": {}
      },
      "source": [
        "ax = sns.distplot(nota_promedio_por_pelicula_10_o_mas_votos.values,\n",
        "                   kde = False,\n",
        "             norm_hist = False)\n",
        "ax.set(xlabel = \"Nota Promedio\", ylabel = \"densidad\")\n",
        "ax.set_title(\"Grafico de distibución del Promedio de notas de Movielens\")"
      ],
      "execution_count": 0,
      "outputs": []
    },
    {
      "cell_type": "code",
      "metadata": {
        "id": "nZY55a3Wlfj2",
        "colab_type": "code",
        "colab": {}
      },
      "source": [
        "ax = sns.boxplot(nota_promedio_por_pelicula_10_o_mas_votos.values)\n",
        "ax.set(xlabel = \"Nota Promedio\")\n",
        "ax.set_title(\"Grafico de distibución del Promedio de notas de Movielens\")"
      ],
      "execution_count": 0,
      "outputs": []
    },
    {
      "cell_type": "code",
      "metadata": {
        "id": "Wy9uskBXltEF",
        "colab_type": "code",
        "colab": {}
      },
      "source": [
        "ax = sns.distplot(nota_promedio_por_pelicula_10_o_mas_votos.values,\n",
        "                  hist_kws = {\"cumulative\":True},\n",
        "                  kde_kws = {\"cumulative\":True})\n",
        "ax.set(xlabel = \"Nota Promedio\", ylabel = \"% Acumulado\")\n",
        "ax.set_title(\"Grafico de distibución del Promedio de notas de Movielens\")"
      ],
      "execution_count": 0,
      "outputs": []
    },
    {
      "cell_type": "code",
      "metadata": {
        "id": "GzBVg-EcqtYM",
        "colab_type": "code",
        "colab": {}
      },
      "source": [
        "ax = sns.distplot(tmdb_10_o_mas_votos.vote_average,\n",
        "                  hist_kws = {\"cumulative\":True},\n",
        "                  kde_kws = {\"cumulative\":True})\n",
        "ax.set(xlabel = \"Nota Promedio\", ylabel = \"% Acumulado\")\n",
        "ax.set_title(\"Grafico de distibución del Promedio de notas de TMDB\")"
      ],
      "execution_count": 0,
      "outputs": []
    },
    {
      "cell_type": "markdown",
      "metadata": {
        "id": "S4sD2bPulYbK",
        "colab_type": "text"
      },
      "source": [
        "#Analizando otras variables"
      ]
    },
    {
      "cell_type": "code",
      "metadata": {
        "id": "zPAFnTNqlBqZ",
        "colab_type": "code",
        "colab": {}
      },
      "source": [
        "ax = sns.distplot(tmdb_10_o_mas_votos.vote_count)\n",
        "ax.set(xlabel = \"Cantidad de Votos\", ylabel = \"frecuencia\")\n",
        "ax.set_title(\"Grafico de distibución de la cantidad de votos de TMDB\")"
      ],
      "execution_count": 0,
      "outputs": []
    },
    {
      "cell_type": "code",
      "metadata": {
        "id": "KOWgLnbvl5F-",
        "colab_type": "code",
        "colab": {}
      },
      "source": [
        "ax = sns.distplot(tmdb.query(\"budget > 0\").budget)\n",
        "ax.set(xlabel = \"Presupuesto de las películas\", ylabel = \"frecuencia\")\n",
        "ax.set_title(\"Gráfico de distibución del presupuesto de las películas de TMDB\")"
      ],
      "execution_count": 0,
      "outputs": []
    },
    {
      "cell_type": "code",
      "metadata": {
        "id": "Q8jLg53RmQap",
        "colab_type": "code",
        "colab": {}
      },
      "source": [
        "ax = sns.distplot(tmdb.popularity)\n",
        "ax.set(xlabel = \"Popularidad de las películas\", ylabel = \"frecuencia\")\n",
        "ax.set_title(\"Gráfico de distibución de la popularidad de las películas de TMDB\")\n"
      ],
      "execution_count": 0,
      "outputs": []
    },
    {
      "cell_type": "code",
      "metadata": {
        "id": "8pAFmwuGnM66",
        "colab_type": "code",
        "colab": {}
      },
      "source": [
        "ax = sns.distplot(tmdb.query(\"runtime > 0\").runtime.dropna())\n",
        "ax.set(xlabel = \"Duración de las películas\", ylabel = \"frecuencia\")\n",
        "ax.set_title(\"Gráfico de distibución de la duración de las películas de TMDB\")"
      ],
      "execution_count": 0,
      "outputs": []
    },
    {
      "cell_type": "code",
      "metadata": {
        "id": "BRKp5KRzoWPJ",
        "colab_type": "code",
        "colab": {}
      },
      "source": [
        "ax = sns.distplot(tmdb.query(\"runtime > 0\").runtime.dropna(),\n",
        "                  hist_kws = {\"cumulative\":True},\n",
        "                  kde_kws = {\"cumulative\":True})\n",
        "ax.set(xlabel = \"Duración\", ylabel = \"% Acumulado\")\n",
        "ax.set_title(\"Grafico de distibución de la duración de las películas de TMDB\")"
      ],
      "execution_count": 0,
      "outputs": []
    },
    {
      "cell_type": "code",
      "metadata": {
        "id": "jU0pTDCopGxF",
        "colab_type": "code",
        "colab": {}
      },
      "source": [
        "tmdb.query(\"runtime > 0\").runtime.dropna().quantile(0.8)"
      ],
      "execution_count": 0,
      "outputs": []
    }
  ]
}