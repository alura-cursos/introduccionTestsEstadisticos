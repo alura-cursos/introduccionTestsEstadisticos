{
  "nbformat": 4,
  "nbformat_minor": 0,
  "metadata": {
    "colab": {
      "name": "Copia de D2 Introducción a Tests Estadísticos.ipynb",
      "provenance": [],
      "collapsed_sections": [],
      "toc_visible": true
    },
    "kernelspec": {
      "name": "python3",
      "display_name": "Python 3"
    }
  },
  "cells": [
    {
      "cell_type": "code",
      "metadata": {
        "id": "i_OlV5mNNC-K",
        "colab_type": "code",
        "colab": {}
      },
      "source": [
        "import pandas as pd \n",
        "tmdb = pd.read_csv(\"tmdb_5000_movies.csv\")"
      ],
      "execution_count": 0,
      "outputs": []
    },
    {
      "cell_type": "code",
      "metadata": {
        "id": "99LjeYu7N5CJ",
        "colab_type": "code",
        "colab": {}
      },
      "source": [
        "tmdb.head(2)"
      ],
      "execution_count": 0,
      "outputs": []
    },
    {
      "cell_type": "code",
      "metadata": {
        "id": "cRbwXr_4N-TO",
        "colab_type": "code",
        "colab": {}
      },
      "source": [
        "tmdb.describe()"
      ],
      "execution_count": 0,
      "outputs": []
    },
    {
      "cell_type": "code",
      "metadata": {
        "id": "uLuXcjf2Ojzf",
        "colab_type": "code",
        "colab": {}
      },
      "source": [
        "import seaborn as sns"
      ],
      "execution_count": 0,
      "outputs": []
    },
    {
      "cell_type": "code",
      "metadata": {
        "id": "-TURxGKBPR5P",
        "colab_type": "code",
        "colab": {}
      },
      "source": [
        "ax = sns.distplot(tmdb.vote_average,\n",
        "             kde = False,\n",
        "             norm_hist = False)\n",
        "ax.set(xlabel = \"Nota Promedio\", ylabel = \"frecuencia\")\n",
        "ax.set_title(\"Grafico de distibución del Promedio de notas de TMDB\") "
      ],
      "execution_count": 0,
      "outputs": []
    },
    {
      "cell_type": "code",
      "metadata": {
        "id": "ZN-p3aBKPcXv",
        "colab_type": "code",
        "colab": {}
      },
      "source": [
        "sns.boxplot(tmdb.vote_average)"
      ],
      "execution_count": 0,
      "outputs": []
    },
    {
      "cell_type": "code",
      "metadata": {
        "colab_type": "code",
        "id": "Rbx7N2CqhGPy",
        "colab": {}
      },
      "source": [
        "tmdb_10_o_mas_votos = tmdb.query(\"vote_count >= 10\")\n",
        "tmdb_10_o_mas_votos.describe()"
      ],
      "execution_count": 0,
      "outputs": []
    },
    {
      "cell_type": "code",
      "metadata": {
        "id": "a8_fCfSbzeBp",
        "colab_type": "code",
        "colab": {}
      },
      "source": [
        "ax = sns.distplot(tmdb_10_o_mas_votos.vote_average)\n",
        "ax.set(xlabel = \"Nota Promedio\", ylabel = \"densidad\")\n",
        "ax.set_title(\"Grafico de distibución del Promedio de notas de TMDB\")"
      ],
      "execution_count": 0,
      "outputs": []
    },
    {
      "cell_type": "code",
      "metadata": {
        "id": "QvZtG3PphXmi",
        "colab_type": "code",
        "colab": {}
      },
      "source": [
        "ax = sns.distplot(tmdb_10_o_mas_votos.vote_average,\n",
        "             kde = False,\n",
        "             norm_hist = False)\n",
        "ax.set(xlabel = \"Nota Promedio\", ylabel = \"frecuencia\")\n",
        "ax.set_title(\"Grafico de distibución del Promedio de notas de TMDB\") "
      ],
      "execution_count": 0,
      "outputs": []
    },
    {
      "cell_type": "code",
      "metadata": {
        "id": "M6oGVToLheMR",
        "colab_type": "code",
        "colab": {}
      },
      "source": [
        "ax = sns.distplot(tmdb_10_o_mas_votos.vote_average)\n",
        "ax.set(xlabel = \"Nota Promedio\", ylabel = \"frecuencia\")\n",
        "ax.set_title(\"Grafico de distibución del Promedio de notas de TMDB\")"
      ],
      "execution_count": 0,
      "outputs": []
    },
    {
      "cell_type": "code",
      "metadata": {
        "id": "fI5LXadahh4i",
        "colab_type": "code",
        "colab": {}
      },
      "source": [
        "ax = sns.boxplot(tmdb_10_o_mas_votos.vote_average)\n",
        "ax.set(xlabel = \"Nota Promedio\")\n",
        "ax.set_title(\"Grafico de distibución del Promedio de notas de TMDB\")"
      ],
      "execution_count": 0,
      "outputs": []
    },
    {
      "cell_type": "code",
      "metadata": {
        "id": "LIwBrt92hu1T",
        "colab_type": "code",
        "colab": {}
      },
      "source": [
        "notas = pd.read_csv(\"ratings.csv\")\n",
        "notas.head()"
      ],
      "execution_count": 0,
      "outputs": []
    },
    {
      "cell_type": "code",
      "metadata": {
        "id": "zpLA0uyuiizF",
        "colab_type": "code",
        "colab": {}
      },
      "source": [
        "nota_promedio_por_pelicula = notas.groupby(\"movieId\").mean()[\"rating\"]\n",
        "nota_promedio_por_pelicula.head()"
      ],
      "execution_count": 0,
      "outputs": []
    },
    {
      "cell_type": "code",
      "metadata": {
        "id": "VVZGzv4Wi1YW",
        "colab_type": "code",
        "colab": {}
      },
      "source": [
        "sns.distplot(nota_promedio_por_pelicula.values)"
      ],
      "execution_count": 0,
      "outputs": []
    },
    {
      "cell_type": "code",
      "metadata": {
        "id": "BUA10yaujgc4",
        "colab_type": "code",
        "colab": {}
      },
      "source": [
        "cantidad_votos_por_pelicula = notas.groupby(\"movieId\").count()\n",
        "cantidad_votos_por_pelicula.head()"
      ],
      "execution_count": 0,
      "outputs": []
    },
    {
      "cell_type": "code",
      "metadata": {
        "id": "xDl4KndUkB7T",
        "colab_type": "code",
        "colab": {}
      },
      "source": [
        "peliculas_10_o_mas_votos = cantidad_votos_por_pelicula.query(\"rating >= 10\").index"
      ],
      "execution_count": 0,
      "outputs": []
    },
    {
      "cell_type": "code",
      "metadata": {
        "id": "MkUXseQSkd9W",
        "colab_type": "code",
        "colab": {}
      },
      "source": [
        "peliculas_10_o_mas_votos"
      ],
      "execution_count": 0,
      "outputs": []
    },
    {
      "cell_type": "code",
      "metadata": {
        "id": "8cJ0LcF5kiYG",
        "colab_type": "code",
        "colab": {}
      },
      "source": [
        "nota_promedio_por_pelicula_10_o_mas_votos = nota_promedio_por_pelicula.loc[peliculas_10_o_mas_votos.values]\n",
        "nota_promedio_por_pelicula_10_o_mas_votos.head()"
      ],
      "execution_count": 0,
      "outputs": []
    },
    {
      "cell_type": "code",
      "metadata": {
        "id": "8jjjz7Gmk_wj",
        "colab_type": "code",
        "colab": {}
      },
      "source": [
        "ax = sns.distplot(nota_promedio_por_pelicula_10_o_mas_votos.values)\n",
        "ax.set(xlabel = \"Nota Promedio\", ylabel = \"densidad\")\n",
        "ax.set_title(\"Grafico de distibución del Promedio de notas de Movielens\")"
      ],
      "execution_count": 0,
      "outputs": []
    },
    {
      "cell_type": "code",
      "metadata": {
        "id": "QpcvsBLMlQT0",
        "colab_type": "code",
        "colab": {}
      },
      "source": [
        "ax = sns.distplot(nota_promedio_por_pelicula_10_o_mas_votos.values,\n",
        "                   kde = False,\n",
        "             norm_hist = False)\n",
        "ax.set(xlabel = \"Nota Promedio\", ylabel = \"densidad\")\n",
        "ax.set_title(\"Grafico de distibución del Promedio de notas de Movielens\")"
      ],
      "execution_count": 0,
      "outputs": []
    },
    {
      "cell_type": "code",
      "metadata": {
        "id": "nZY55a3Wlfj2",
        "colab_type": "code",
        "colab": {}
      },
      "source": [
        "ax = sns.boxplot(nota_promedio_por_pelicula_10_o_mas_votos.values)\n",
        "ax.set(xlabel = \"Nota Promedio\")\n",
        "ax.set_title(\"Grafico de distibución del Promedio de notas de Movielens\")"
      ],
      "execution_count": 0,
      "outputs": []
    },
    {
      "cell_type": "code",
      "metadata": {
        "id": "Wy9uskBXltEF",
        "colab_type": "code",
        "colab": {}
      },
      "source": [
        "ax = sns.distplot(nota_promedio_por_pelicula_10_o_mas_votos.values,\n",
        "                  hist_kws = {\"cumulative\":True},\n",
        "                  kde_kws = {\"cumulative\":True})\n",
        "ax.set(xlabel = \"Nota Promedio\", ylabel = \"% Acumulado\")\n",
        "ax.set_title(\"Grafico de distibución del Promedio de notas de Movielens\")"
      ],
      "execution_count": 0,
      "outputs": []
    },
    {
      "cell_type": "code",
      "metadata": {
        "id": "GzBVg-EcqtYM",
        "colab_type": "code",
        "colab": {}
      },
      "source": [
        "ax = sns.distplot(tmdb_10_o_mas_votos.vote_average,\n",
        "                  hist_kws = {\"cumulative\":True},\n",
        "                  kde_kws = {\"cumulative\":True})\n",
        "ax.set(xlabel = \"Nota Promedio\", ylabel = \"% Acumulado\")\n",
        "ax.set_title(\"Grafico de distibución del Promedio de notas de TMDB\")"
      ],
      "execution_count": 0,
      "outputs": []
    },
    {
      "cell_type": "markdown",
      "metadata": {
        "id": "S4sD2bPulYbK",
        "colab_type": "text"
      },
      "source": [
        "#Analizando otras variables"
      ]
    },
    {
      "cell_type": "code",
      "metadata": {
        "id": "zPAFnTNqlBqZ",
        "colab_type": "code",
        "colab": {}
      },
      "source": [
        "ax = sns.distplot(tmdb_10_o_mas_votos.vote_count)\n",
        "ax.set(xlabel = \"Cantidad de Votos\", ylabel = \"frecuencia\")\n",
        "ax.set_title(\"Grafico de distibución de la cantidad de votos de TMDB\")"
      ],
      "execution_count": 0,
      "outputs": []
    },
    {
      "cell_type": "code",
      "metadata": {
        "id": "KOWgLnbvl5F-",
        "colab_type": "code",
        "colab": {}
      },
      "source": [
        "ax = sns.distplot(tmdb.query(\"budget > 0\").budget)\n",
        "ax.set(xlabel = \"Presupuesto de las películas\", ylabel = \"frecuencia\")\n",
        "ax.set_title(\"Gráfico de distibución del presupuesto de las películas de TMDB\")"
      ],
      "execution_count": 0,
      "outputs": []
    },
    {
      "cell_type": "code",
      "metadata": {
        "id": "Q8jLg53RmQap",
        "colab_type": "code",
        "colab": {}
      },
      "source": [
        "ax = sns.distplot(tmdb.popularity)\n",
        "ax.set(xlabel = \"Popularidad de las películas\", ylabel = \"frecuencia\")\n",
        "ax.set_title(\"Gráfico de distibución de la popularidad de las películas de TMDB\")\n"
      ],
      "execution_count": 0,
      "outputs": []
    },
    {
      "cell_type": "code",
      "metadata": {
        "id": "8pAFmwuGnM66",
        "colab_type": "code",
        "colab": {}
      },
      "source": [
        "ax = sns.distplot(tmdb.query(\"runtime > 0\").runtime.dropna())\n",
        "ax.set(xlabel = \"Duración de las películas\", ylabel = \"frecuencia\")\n",
        "ax.set_title(\"Gráfico de distibución de la duración de las películas de TMDB\")"
      ],
      "execution_count": 0,
      "outputs": []
    },
    {
      "cell_type": "code",
      "metadata": {
        "id": "BRKp5KRzoWPJ",
        "colab_type": "code",
        "colab": {}
      },
      "source": [
        "ax = sns.distplot(tmdb.query(\"runtime > 0\").runtime.dropna(),\n",
        "                  hist_kws = {\"cumulative\":True},\n",
        "                  kde_kws = {\"cumulative\":True})\n",
        "ax.set(xlabel = \"Duración\", ylabel = \"% Acumulado\")\n",
        "ax.set_title(\"Grafico de distibución de la duración de las películas de TMDB\")"
      ],
      "execution_count": 0,
      "outputs": []
    },
    {
      "cell_type": "code",
      "metadata": {
        "id": "jU0pTDCopGxF",
        "colab_type": "code",
        "outputId": "0a8f02b2-cd0b-44b8-8611-ec3a3e814d4e",
        "colab": {
          "base_uri": "https://localhost:8080/",
          "height": 35
        }
      },
      "source": [
        "tmdb.query(\"runtime > 0\").runtime.dropna().quantile(0.8)"
      ],
      "execution_count": 0,
      "outputs": [
        {
          "output_type": "execute_result",
          "data": {
            "text/plain": [
              "121.0"
            ]
          },
          "metadata": {
            "tags": []
          },
          "execution_count": 30
        }
      ]
    },
    {
      "cell_type": "markdown",
      "metadata": {
        "id": "WgytlK5H14Ur",
        "colab_type": "text"
      },
      "source": [
        "#Efecto del tamaño de la muestra"
      ]
    },
    {
      "cell_type": "code",
      "metadata": {
        "id": "tQInC2xs13Nh",
        "colab_type": "code",
        "colab": {}
      },
      "source": [
        "nota_promedio_por_pelicula_10_o_mas_votos.mean()"
      ],
      "execution_count": 0,
      "outputs": []
    },
    {
      "cell_type": "code",
      "metadata": {
        "id": "LFIwH-m12Bk-",
        "colab_type": "code",
        "colab": {}
      },
      "source": [
        "len(nota_promedio_por_pelicula_10_o_mas_votos)"
      ],
      "execution_count": 0,
      "outputs": []
    },
    {
      "cell_type": "code",
      "metadata": {
        "id": "f5SBDsPQ2jlc",
        "colab_type": "code",
        "colab": {}
      },
      "source": [
        "nota_promedio_por_pelicula_10_o_mas_votos[0:5].mean()"
      ],
      "execution_count": 0,
      "outputs": []
    },
    {
      "cell_type": "code",
      "metadata": {
        "id": "ab_0cG-82qy4",
        "colab_type": "code",
        "colab": {}
      },
      "source": [
        "import matplotlib.pyplot as plt\n",
        "\n",
        "\n",
        "promedios = list()\n",
        "for i in range(1,len(nota_promedio_por_pelicula_10_o_mas_votos)):\n",
        "   promedios.append(nota_promedio_por_pelicula_10_o_mas_votos[0:i].mean()) \n",
        "\n",
        "promedios\n",
        "\n",
        "plt.plot(promedios)\n",
        "\n"
      ],
      "execution_count": 0,
      "outputs": []
    },
    {
      "cell_type": "code",
      "metadata": {
        "id": "EnaAe4aO4W9h",
        "colab_type": "code",
        "colab": {}
      },
      "source": [
        "import matplotlib.pyplot as plt\n",
        "import numpy as np\n",
        "\n",
        "np.random.seed(75241)\n",
        "temp = nota_promedio_por_pelicula_10_o_mas_votos.sample(frac=1)\n",
        "promedios = list()\n",
        "for i in range(1,len(temp)):\n",
        "   promedios.append(temp[0:i].mean()) \n",
        "\n",
        "promedios\n",
        "\n",
        "plt.plot(promedios)"
      ],
      "execution_count": 0,
      "outputs": []
    },
    {
      "cell_type": "markdown",
      "metadata": {
        "id": "EfTB70EwYcSa",
        "colab_type": "text"
      },
      "source": [
        "#Analizando Tests Estadísitcos Z Test - T Test"
      ]
    },
    {
      "cell_type": "code",
      "metadata": {
        "id": "HDqSj0ypX1vs",
        "colab_type": "code",
        "colab": {}
      },
      "source": [
        "nota_promedio_por_pelicula_10_o_mas_votos.mean()"
      ],
      "execution_count": 0,
      "outputs": []
    },
    {
      "cell_type": "code",
      "metadata": {
        "id": "N-v8dqagYlJB",
        "colab_type": "code",
        "colab": {}
      },
      "source": [
        "from statsmodels.stats.weightstats import zconfint\n",
        "\n",
        "zconfint(nota_promedio_por_pelicula_10_o_mas_votos)"
      ],
      "execution_count": 0,
      "outputs": []
    },
    {
      "cell_type": "code",
      "metadata": {
        "id": "eNEo17x8YT11",
        "colab_type": "code",
        "colab": {}
      },
      "source": [
        "from statsmodels.stats.weightstats import DescrStatsW\n",
        "\n",
        "descr_notas_10_votos = DescrStatsW(nota_promedio_por_pelicula_10_o_mas_votos)\n",
        "descr_notas_10_votos.tconfint_mean()\n",
        "\n"
      ],
      "execution_count": 0,
      "outputs": []
    },
    {
      "cell_type": "code",
      "metadata": {
        "id": "c3aa0lODaL6N",
        "colab_type": "code",
        "colab": {}
      },
      "source": [
        "descr_notas_10_votos.zconfint_mean()"
      ],
      "execution_count": 0,
      "outputs": []
    },
    {
      "cell_type": "markdown",
      "metadata": {
        "id": "vy-JfbP8ieV0",
        "colab_type": "text"
      },
      "source": [
        "#Analizando una películas específica"
      ]
    },
    {
      "cell_type": "code",
      "metadata": {
        "id": "IMcGIk-qh7_t",
        "colab_type": "code",
        "colab": {}
      },
      "source": [
        "#media = 3.43\n",
        "#int(3.41,3.45)"
      ],
      "execution_count": 0,
      "outputs": []
    },
    {
      "cell_type": "code",
      "metadata": {
        "id": "mCB6VqyHiIJK",
        "colab_type": "code",
        "colab": {}
      },
      "source": [
        "peliculas = pd.read_csv(\"movies.csv\")"
      ],
      "execution_count": 0,
      "outputs": []
    },
    {
      "cell_type": "code",
      "metadata": {
        "id": "3SF_K2pkiPC9",
        "colab_type": "code",
        "colab": {}
      },
      "source": [
        "peliculas.head()"
      ],
      "execution_count": 0,
      "outputs": []
    },
    {
      "cell_type": "code",
      "metadata": {
        "id": "DmgyrMmviRXo",
        "colab_type": "code",
        "colab": {}
      },
      "source": [
        "notas.head()"
      ],
      "execution_count": 0,
      "outputs": []
    },
    {
      "cell_type": "code",
      "metadata": {
        "id": "GjlB1LQ5ia4a",
        "colab_type": "code",
        "colab": {}
      },
      "source": [
        "notas1 = notas.query(\"movieId == 1\")"
      ],
      "execution_count": 0,
      "outputs": []
    },
    {
      "cell_type": "code",
      "metadata": {
        "id": "04YVDc5MirPs",
        "colab_type": "code",
        "colab": {}
      },
      "source": [
        "notas1"
      ],
      "execution_count": 0,
      "outputs": []
    },
    {
      "cell_type": "code",
      "metadata": {
        "id": "FH-xHgR3isPI",
        "colab_type": "code",
        "colab": {}
      },
      "source": [
        "ax = sns.distplot(notas1.rating)\n",
        "ax.set(xlabel = \"Nota Toy Story\", ylabel = \"densidad\")\n",
        "ax.set_title(\"Grafico de distibución de la nota de Toy Story\")"
      ],
      "execution_count": 0,
      "outputs": []
    },
    {
      "cell_type": "code",
      "metadata": {
        "id": "6Uj8UUmxjCaV",
        "colab_type": "code",
        "colab": {}
      },
      "source": [
        "ax = sns.boxplot(notas1.rating)\n",
        "ax.set(xlabel = \"Nota Toy Story\")\n",
        "ax.set_title(\"Grafico de distribución de notas de Toy Story\")"
      ],
      "execution_count": 0,
      "outputs": []
    },
    {
      "cell_type": "code",
      "metadata": {
        "id": "uN41Fi16jT3p",
        "colab_type": "code",
        "colab": {}
      },
      "source": [
        "zconfint(notas1.rating)"
      ],
      "execution_count": 0,
      "outputs": []
    },
    {
      "cell_type": "code",
      "metadata": {
        "id": "MavOWHbAj-lZ",
        "colab_type": "code",
        "colab": {}
      },
      "source": [
        "from statsmodels.stats.weightstats import ztest\n",
        "ztest(notas1.rating,nota_promedio_por_pelicula_10_o_mas_votos)\n"
      ],
      "execution_count": 0,
      "outputs": []
    },
    {
      "cell_type": "code",
      "metadata": {
        "id": "U0QsIZmPkqTp",
        "colab_type": "code",
        "colab": {}
      },
      "source": [
        "#al rechazar nuestra hipotesis (nula) consideramos que la media de TS \n",
        "#es mayor que la media de las peliculas en general\n"
      ],
      "execution_count": 0,
      "outputs": []
    },
    {
      "cell_type": "code",
      "metadata": {
        "id": "5dxQ3lVB2Llc",
        "colab_type": "code",
        "colab": {}
      },
      "source": [
        "np.random.seed(75241)\n",
        "temp = notas1.sample(frac=1).rating\n",
        "promedios = list()\n",
        "for i in range(1,len(temp)):\n",
        "   promedios.append(temp[0:i].mean()) \n",
        "\n",
        "promedios\n",
        "\n",
        "plt.plot(promedios)"
      ],
      "execution_count": 0,
      "outputs": []
    },
    {
      "cell_type": "code",
      "metadata": {
        "id": "DbPleMB-2Vp5",
        "colab_type": "code",
        "colab": {}
      },
      "source": [
        "np.random.seed(75241)\n",
        "temp = notas1.sample(frac=1).rating\n",
        "promedios = list()\n",
        "\n",
        "def calcula_test(i):\n",
        "  media = temp[0:i].mean()\n",
        "  stat, p = ztest(temp[0:i],value = 3.4320503405352603)\n",
        "  return(i,p,media)\n",
        "\n",
        "for i in range(2,len(temp)):\n",
        "   promedios.append(calcula_test(i)) \n",
        "\n",
        "promedios"
      ],
      "execution_count": 0,
      "outputs": []
    },
    {
      "cell_type": "code",
      "metadata": {
        "id": "2YgUOusv3hq2",
        "colab_type": "code",
        "colab": {}
      },
      "source": [
        "valores = np.array(promedios)"
      ],
      "execution_count": 0,
      "outputs": []
    },
    {
      "cell_type": "code",
      "metadata": {
        "id": "Dl9Qpe-C4LQ6",
        "colab_type": "code",
        "colab": {}
      },
      "source": [
        "plt.plot(valores[:,0],valores[:,1])\n",
        "plt.plot(valores[:,0],valores[:,2])\n",
        "plt.hlines(y = 0.05, xmin = 2, xmax = len(temp), colors = \"g\", linestyles= \"dashdot\")"
      ],
      "execution_count": 0,
      "outputs": []
    },
    {
      "cell_type": "code",
      "metadata": {
        "id": "FeAEXJhKFtih",
        "colab_type": "code",
        "colab": {}
      },
      "source": [
        "zconfint(notas1.rating,notas.rating)"
      ],
      "execution_count": 0,
      "outputs": []
    },
    {
      "cell_type": "code",
      "metadata": {
        "id": "_C-rK63MF1J7",
        "colab_type": "code",
        "colab": {}
      },
      "source": [
        "ztest(notas1.rating,notas.rating)"
      ],
      "execution_count": 0,
      "outputs": []
    },
    {
      "cell_type": "code",
      "metadata": {
        "id": "eMpBmw9VGHJM",
        "colab_type": "code",
        "colab": {}
      },
      "source": [
        "zconfint(notas.rating,notas1.rating)"
      ],
      "execution_count": 0,
      "outputs": []
    },
    {
      "cell_type": "code",
      "metadata": {
        "id": "4gsv_LbcGPM8",
        "colab_type": "code",
        "colab": {}
      },
      "source": [
        "from scipy.stats import ttest_ind\n",
        "\n",
        "ttest_ind(notas1.rating,notas.rating)"
      ],
      "execution_count": 0,
      "outputs": []
    },
    {
      "cell_type": "code",
      "metadata": {
        "id": "OcbxidNBGj8q",
        "colab_type": "code",
        "colab": {}
      },
      "source": [
        "from statsmodels.stats.weightstats import DescrStatsW\n",
        "\n",
        "descr_todas_las_notas = DescrStatsW(notas.rating)\n",
        "descr_toy_story = DescrStatsW(notas1.rating)\n",
        "\n",
        "comparacion = descr_todas_las_notas.get_compare(descr_toy_story)\n",
        "\n",
        "comparacion.summary()"
      ],
      "execution_count": 0,
      "outputs": []
    },
    {
      "cell_type": "code",
      "metadata": {
        "id": "OB3WWJZFHE78",
        "colab_type": "code",
        "colab": {}
      },
      "source": [
        "from statsmodels.stats.weightstats import DescrStatsW\n",
        "\n",
        "descr_todas_las_notas = DescrStatsW(notas.rating)\n",
        "descr_toy_story = DescrStatsW(notas1.rating)\n",
        "\n",
        "comparacion = descr_todas_las_notas.get_compare(descr_toy_story)\n",
        "\n",
        "comparacion.summary(use_t=True)"
      ],
      "execution_count": 0,
      "outputs": []
    },
    {
      "cell_type": "code",
      "metadata": {
        "id": "s6eDQ6XC6w1L",
        "colab_type": "code",
        "colab": {}
      },
      "source": [
        "import matplotlib.pyplot as plt \n",
        "plt.boxplot([notas.rating,notas1.rating],labels = [\"Notas general\", \"Notas de Toy Story\"])\n",
        "plt.title(\"Distribucion de todas las notas y de Toy Story\")"
      ],
      "execution_count": 0,
      "outputs": []
    },
    {
      "cell_type": "code",
      "metadata": {
        "id": "G9Py2fop7TS_",
        "colab_type": "code",
        "colab": {}
      },
      "source": [
        "import matplotlib.pyplot as plt \n",
        "plt.boxplot([notas.rating,notas1[3:12].rating],labels = [\"Notas general\", \"Notas de Toy Story 3 al 12\"])\n",
        "plt.title(\"Distribucion de todas las notas y de Toy Story del 3 al 12\")"
      ],
      "execution_count": 0,
      "outputs": []
    },
    {
      "cell_type": "code",
      "metadata": {
        "id": "YCd9_CEM7wi6",
        "colab_type": "code",
        "colab": {}
      },
      "source": [
        "descr_todas_las_notas = DescrStatsW(notas.rating)\n",
        "descr_toy_story_3_12 = DescrStatsW(notas1[3:12].rating)\n",
        "\n",
        "comparacion = descr_todas_las_notas.get_compare(descr_toy_story_3_12)\n",
        "\n",
        "comparacion.summary(use_t=True)"
      ],
      "execution_count": 0,
      "outputs": []
    }
  ]
}