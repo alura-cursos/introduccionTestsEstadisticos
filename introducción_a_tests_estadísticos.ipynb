{
  "nbformat": 4,
  "nbformat_minor": 0,
  "metadata": {
    "colab": {
      "name": "Copia de D2 Introducción a Tests Estadísticos.ipynb",
      "provenance": [],
      "collapsed_sections": [],
      "toc_visible": true
    },
    "kernelspec": {
      "name": "python3",
      "display_name": "Python 3"
    }
  },
  "cells": [
    {
      "cell_type": "code",
      "metadata": {
        "id": "i_OlV5mNNC-K",
        "colab_type": "code",
        "colab": {}
      },
      "source": [
        "import pandas as pd \n",
        "tmdb = pd.read_csv(\"tmdb_5000_movies.csv\")"
      ],
      "execution_count": 0,
      "outputs": []
    },
    {
      "cell_type": "code",
      "metadata": {
        "id": "99LjeYu7N5CJ",
        "colab_type": "code",
        "outputId": "4d20430d-778d-4db2-e575-ce9db1a03da8",
        "colab": {
          "base_uri": "https://localhost:8080/",
          "height": 301
        }
      },
      "source": [
        "tmdb.head(2)"
      ],
      "execution_count": 0,
      "outputs": [
        {
          "output_type": "execute_result",
          "data": {
            "text/html": [
              "<div>\n",
              "<style scoped>\n",
              "    .dataframe tbody tr th:only-of-type {\n",
              "        vertical-align: middle;\n",
              "    }\n",
              "\n",
              "    .dataframe tbody tr th {\n",
              "        vertical-align: top;\n",
              "    }\n",
              "\n",
              "    .dataframe thead th {\n",
              "        text-align: right;\n",
              "    }\n",
              "</style>\n",
              "<table border=\"1\" class=\"dataframe\">\n",
              "  <thead>\n",
              "    <tr style=\"text-align: right;\">\n",
              "      <th></th>\n",
              "      <th>budget</th>\n",
              "      <th>genres</th>\n",
              "      <th>homepage</th>\n",
              "      <th>id</th>\n",
              "      <th>keywords</th>\n",
              "      <th>original_language</th>\n",
              "      <th>original_title</th>\n",
              "      <th>overview</th>\n",
              "      <th>popularity</th>\n",
              "      <th>production_companies</th>\n",
              "      <th>production_countries</th>\n",
              "      <th>release_date</th>\n",
              "      <th>revenue</th>\n",
              "      <th>runtime</th>\n",
              "      <th>spoken_languages</th>\n",
              "      <th>status</th>\n",
              "      <th>tagline</th>\n",
              "      <th>title</th>\n",
              "      <th>vote_average</th>\n",
              "      <th>vote_count</th>\n",
              "    </tr>\n",
              "  </thead>\n",
              "  <tbody>\n",
              "    <tr>\n",
              "      <th>0</th>\n",
              "      <td>237000000</td>\n",
              "      <td>[{\"id\": 28, \"name\": \"Action\"}, {\"id\": 12, \"nam...</td>\n",
              "      <td>http://www.avatarmovie.com/</td>\n",
              "      <td>19995</td>\n",
              "      <td>[{\"id\": 1463, \"name\": \"culture clash\"}, {\"id\":...</td>\n",
              "      <td>en</td>\n",
              "      <td>Avatar</td>\n",
              "      <td>In the 22nd century, a paraplegic Marine is di...</td>\n",
              "      <td>150.437577</td>\n",
              "      <td>[{\"name\": \"Ingenious Film Partners\", \"id\": 289...</td>\n",
              "      <td>[{\"iso_3166_1\": \"US\", \"name\": \"United States o...</td>\n",
              "      <td>2009-12-10</td>\n",
              "      <td>2787965087</td>\n",
              "      <td>162.0</td>\n",
              "      <td>[{\"iso_639_1\": \"en\", \"name\": \"English\"}, {\"iso...</td>\n",
              "      <td>Released</td>\n",
              "      <td>Enter the World of Pandora.</td>\n",
              "      <td>Avatar</td>\n",
              "      <td>7.2</td>\n",
              "      <td>11800</td>\n",
              "    </tr>\n",
              "    <tr>\n",
              "      <th>1</th>\n",
              "      <td>300000000</td>\n",
              "      <td>[{\"id\": 12, \"name\": \"Adventure\"}, {\"id\": 14, \"...</td>\n",
              "      <td>http://disney.go.com/disneypictures/pirates/</td>\n",
              "      <td>285</td>\n",
              "      <td>[{\"id\": 270, \"name\": \"ocean\"}, {\"id\": 726, \"na...</td>\n",
              "      <td>en</td>\n",
              "      <td>Pirates of the Caribbean: At World's End</td>\n",
              "      <td>Captain Barbossa, long believed to be dead, ha...</td>\n",
              "      <td>139.082615</td>\n",
              "      <td>[{\"name\": \"Walt Disney Pictures\", \"id\": 2}, {\"...</td>\n",
              "      <td>[{\"iso_3166_1\": \"US\", \"name\": \"United States o...</td>\n",
              "      <td>2007-05-19</td>\n",
              "      <td>961000000</td>\n",
              "      <td>169.0</td>\n",
              "      <td>[{\"iso_639_1\": \"en\", \"name\": \"English\"}]</td>\n",
              "      <td>Released</td>\n",
              "      <td>At the end of the world, the adventure begins.</td>\n",
              "      <td>Pirates of the Caribbean: At World's End</td>\n",
              "      <td>6.9</td>\n",
              "      <td>4500</td>\n",
              "    </tr>\n",
              "  </tbody>\n",
              "</table>\n",
              "</div>"
            ],
            "text/plain": [
              "      budget  ... vote_count\n",
              "0  237000000  ...      11800\n",
              "1  300000000  ...       4500\n",
              "\n",
              "[2 rows x 20 columns]"
            ]
          },
          "metadata": {
            "tags": []
          },
          "execution_count": 3
        }
      ]
    },
    {
      "cell_type": "code",
      "metadata": {
        "id": "cRbwXr_4N-TO",
        "colab_type": "code",
        "outputId": "6dc087cc-ad38-4e2c-b238-d557146ecf57",
        "colab": {
          "base_uri": "https://localhost:8080/",
          "height": 308
        }
      },
      "source": [
        "tmdb.describe()"
      ],
      "execution_count": 0,
      "outputs": [
        {
          "output_type": "execute_result",
          "data": {
            "text/html": [
              "<div>\n",
              "<style scoped>\n",
              "    .dataframe tbody tr th:only-of-type {\n",
              "        vertical-align: middle;\n",
              "    }\n",
              "\n",
              "    .dataframe tbody tr th {\n",
              "        vertical-align: top;\n",
              "    }\n",
              "\n",
              "    .dataframe thead th {\n",
              "        text-align: right;\n",
              "    }\n",
              "</style>\n",
              "<table border=\"1\" class=\"dataframe\">\n",
              "  <thead>\n",
              "    <tr style=\"text-align: right;\">\n",
              "      <th></th>\n",
              "      <th>budget</th>\n",
              "      <th>id</th>\n",
              "      <th>popularity</th>\n",
              "      <th>revenue</th>\n",
              "      <th>runtime</th>\n",
              "      <th>vote_average</th>\n",
              "      <th>vote_count</th>\n",
              "    </tr>\n",
              "  </thead>\n",
              "  <tbody>\n",
              "    <tr>\n",
              "      <th>count</th>\n",
              "      <td>4.803000e+03</td>\n",
              "      <td>4803.000000</td>\n",
              "      <td>4803.000000</td>\n",
              "      <td>4.803000e+03</td>\n",
              "      <td>4801.000000</td>\n",
              "      <td>4803.000000</td>\n",
              "      <td>4803.000000</td>\n",
              "    </tr>\n",
              "    <tr>\n",
              "      <th>mean</th>\n",
              "      <td>2.904504e+07</td>\n",
              "      <td>57165.484281</td>\n",
              "      <td>21.492301</td>\n",
              "      <td>8.226064e+07</td>\n",
              "      <td>106.875859</td>\n",
              "      <td>6.092172</td>\n",
              "      <td>690.217989</td>\n",
              "    </tr>\n",
              "    <tr>\n",
              "      <th>std</th>\n",
              "      <td>4.072239e+07</td>\n",
              "      <td>88694.614033</td>\n",
              "      <td>31.816650</td>\n",
              "      <td>1.628571e+08</td>\n",
              "      <td>22.611935</td>\n",
              "      <td>1.194612</td>\n",
              "      <td>1234.585891</td>\n",
              "    </tr>\n",
              "    <tr>\n",
              "      <th>min</th>\n",
              "      <td>0.000000e+00</td>\n",
              "      <td>5.000000</td>\n",
              "      <td>0.000000</td>\n",
              "      <td>0.000000e+00</td>\n",
              "      <td>0.000000</td>\n",
              "      <td>0.000000</td>\n",
              "      <td>0.000000</td>\n",
              "    </tr>\n",
              "    <tr>\n",
              "      <th>25%</th>\n",
              "      <td>7.900000e+05</td>\n",
              "      <td>9014.500000</td>\n",
              "      <td>4.668070</td>\n",
              "      <td>0.000000e+00</td>\n",
              "      <td>94.000000</td>\n",
              "      <td>5.600000</td>\n",
              "      <td>54.000000</td>\n",
              "    </tr>\n",
              "    <tr>\n",
              "      <th>50%</th>\n",
              "      <td>1.500000e+07</td>\n",
              "      <td>14629.000000</td>\n",
              "      <td>12.921594</td>\n",
              "      <td>1.917000e+07</td>\n",
              "      <td>103.000000</td>\n",
              "      <td>6.200000</td>\n",
              "      <td>235.000000</td>\n",
              "    </tr>\n",
              "    <tr>\n",
              "      <th>75%</th>\n",
              "      <td>4.000000e+07</td>\n",
              "      <td>58610.500000</td>\n",
              "      <td>28.313505</td>\n",
              "      <td>9.291719e+07</td>\n",
              "      <td>118.000000</td>\n",
              "      <td>6.800000</td>\n",
              "      <td>737.000000</td>\n",
              "    </tr>\n",
              "    <tr>\n",
              "      <th>max</th>\n",
              "      <td>3.800000e+08</td>\n",
              "      <td>459488.000000</td>\n",
              "      <td>875.581305</td>\n",
              "      <td>2.787965e+09</td>\n",
              "      <td>338.000000</td>\n",
              "      <td>10.000000</td>\n",
              "      <td>13752.000000</td>\n",
              "    </tr>\n",
              "  </tbody>\n",
              "</table>\n",
              "</div>"
            ],
            "text/plain": [
              "             budget             id  ...  vote_average    vote_count\n",
              "count  4.803000e+03    4803.000000  ...   4803.000000   4803.000000\n",
              "mean   2.904504e+07   57165.484281  ...      6.092172    690.217989\n",
              "std    4.072239e+07   88694.614033  ...      1.194612   1234.585891\n",
              "min    0.000000e+00       5.000000  ...      0.000000      0.000000\n",
              "25%    7.900000e+05    9014.500000  ...      5.600000     54.000000\n",
              "50%    1.500000e+07   14629.000000  ...      6.200000    235.000000\n",
              "75%    4.000000e+07   58610.500000  ...      6.800000    737.000000\n",
              "max    3.800000e+08  459488.000000  ...     10.000000  13752.000000\n",
              "\n",
              "[8 rows x 7 columns]"
            ]
          },
          "metadata": {
            "tags": []
          },
          "execution_count": 4
        }
      ]
    },
    {
      "cell_type": "code",
      "metadata": {
        "id": "uLuXcjf2Ojzf",
        "colab_type": "code",
        "colab": {}
      },
      "source": [
        "import seaborn as sns"
      ],
      "execution_count": 0,
      "outputs": []
    },
    {
      "cell_type": "code",
      "metadata": {
        "id": "-TURxGKBPR5P",
        "colab_type": "code",
        "outputId": "08def644-f580-4b9a-d1d8-6898fc1f74ce",
        "colab": {
          "base_uri": "https://localhost:8080/",
          "height": 313
        }
      },
      "source": [
        "ax = sns.distplot(tmdb.vote_average,\n",
        "             kde = False,\n",
        "             norm_hist = False)\n",
        "ax.set(xlabel = \"Nota Promedio\", ylabel = \"frecuencia\")\n",
        "ax.set_title(\"Grafico de distibución del Promedio de notas de TMDB\") "
      ],
      "execution_count": 0,
      "outputs": [
        {
          "output_type": "execute_result",
          "data": {
            "text/plain": [
              "Text(0.5, 1.0, 'Grafico de distibución del Promedio de notas de TMDB')"
            ]
          },
          "metadata": {
            "tags": []
          },
          "execution_count": 6
        },
        {
          "output_type": "display_data",
          "data": {
            "image/png": "[encoded data removed]",
            "text/plain": [
              "<Figure size 432x288 with 1 Axes>"
            ]
          },
          "metadata": {
            "tags": []
          }
        }
      ]
    },
    {
      "cell_type": "code",
      "metadata": {
        "id": "ZN-p3aBKPcXv",
        "colab_type": "code",
        "outputId": "86626d5c-c54f-44cb-ee3a-fc0fea89b2de",
        "colab": {
          "base_uri": "https://localhost:8080/",
          "height": 298
        }
      },
      "source": [
        "sns.boxplot(tmdb.vote_average)"
      ],
      "execution_count": 0,
      "outputs": [
        {
          "output_type": "execute_result",
          "data": {
            "text/plain": [
              "<matplotlib.axes._subplots.AxesSubplot at 0x7f209189bb38>"
            ]
          },
          "metadata": {
            "tags": []
          },
          "execution_count": 7
        },
        {
          "output_type": "display_data",
          "data": {
            "image/png": "[encoded data removed]",
            "text/plain": [
              "<Figure size 432x288 with 1 Axes>"
            ]
          },
          "metadata": {
            "tags": []
          }
        }
      ]
    },
    {
      "cell_type": "code",
      "metadata": {
        "colab_type": "code",
        "id": "Rbx7N2CqhGPy",
        "outputId": "565d5ca6-36c0-48f5-e498-2842417f4bc4",
        "colab": {
          "base_uri": "https://localhost:8080/",
          "height": 308
        }
      },
      "source": [
        "tmdb_10_o_mas_votos = tmdb.query(\"vote_count >= 10\")\n",
        "tmdb_10_o_mas_votos.describe()"
      ],
      "execution_count": 0,
      "outputs": [
        {
          "output_type": "execute_result",
          "data": {
            "text/html": [
              "<div>\n",
              "<style scoped>\n",
              "    .dataframe tbody tr th:only-of-type {\n",
              "        vertical-align: middle;\n",
              "    }\n",
              "\n",
              "    .dataframe tbody tr th {\n",
              "        vertical-align: top;\n",
              "    }\n",
              "\n",
              "    .dataframe thead th {\n",
              "        text-align: right;\n",
              "    }\n",
              "</style>\n",
              "<table border=\"1\" class=\"dataframe\">\n",
              "  <thead>\n",
              "    <tr style=\"text-align: right;\">\n",
              "      <th></th>\n",
              "      <th>budget</th>\n",
              "      <th>id</th>\n",
              "      <th>popularity</th>\n",
              "      <th>revenue</th>\n",
              "      <th>runtime</th>\n",
              "      <th>vote_average</th>\n",
              "      <th>vote_count</th>\n",
              "    </tr>\n",
              "  </thead>\n",
              "  <tbody>\n",
              "    <tr>\n",
              "      <th>count</th>\n",
              "      <td>4.392000e+03</td>\n",
              "      <td>4392.000000</td>\n",
              "      <td>4392.000000</td>\n",
              "      <td>4.392000e+03</td>\n",
              "      <td>4391.000000</td>\n",
              "      <td>4392.000000</td>\n",
              "      <td>4392.000000</td>\n",
              "    </tr>\n",
              "    <tr>\n",
              "      <th>mean</th>\n",
              "      <td>3.164545e+07</td>\n",
              "      <td>49204.119991</td>\n",
              "      <td>23.448815</td>\n",
              "      <td>8.990969e+07</td>\n",
              "      <td>108.430881</td>\n",
              "      <td>6.226935</td>\n",
              "      <td>754.441712</td>\n",
              "    </tr>\n",
              "    <tr>\n",
              "      <th>std</th>\n",
              "      <td>4.162736e+07</td>\n",
              "      <td>80136.249777</td>\n",
              "      <td>32.592158</td>\n",
              "      <td>1.682870e+08</td>\n",
              "      <td>21.014719</td>\n",
              "      <td>0.893215</td>\n",
              "      <td>1272.263761</td>\n",
              "    </tr>\n",
              "    <tr>\n",
              "      <th>min</th>\n",
              "      <td>0.000000e+00</td>\n",
              "      <td>5.000000</td>\n",
              "      <td>0.011697</td>\n",
              "      <td>0.000000e+00</td>\n",
              "      <td>0.000000</td>\n",
              "      <td>1.900000</td>\n",
              "      <td>10.000000</td>\n",
              "    </tr>\n",
              "    <tr>\n",
              "      <th>25%</th>\n",
              "      <td>2.895962e+06</td>\n",
              "      <td>8403.500000</td>\n",
              "      <td>6.512166</td>\n",
              "      <td>1.365700e+04</td>\n",
              "      <td>95.000000</td>\n",
              "      <td>5.700000</td>\n",
              "      <td>83.750000</td>\n",
              "    </tr>\n",
              "    <tr>\n",
              "      <th>50%</th>\n",
              "      <td>1.700000e+07</td>\n",
              "      <td>13084.500000</td>\n",
              "      <td>14.827784</td>\n",
              "      <td>2.685837e+07</td>\n",
              "      <td>105.000000</td>\n",
              "      <td>6.300000</td>\n",
              "      <td>288.500000</td>\n",
              "    </tr>\n",
              "    <tr>\n",
              "      <th>75%</th>\n",
              "      <td>4.200000e+07</td>\n",
              "      <td>46831.250000</td>\n",
              "      <td>30.258282</td>\n",
              "      <td>1.022818e+08</td>\n",
              "      <td>118.500000</td>\n",
              "      <td>6.800000</td>\n",
              "      <td>831.000000</td>\n",
              "    </tr>\n",
              "    <tr>\n",
              "      <th>max</th>\n",
              "      <td>3.800000e+08</td>\n",
              "      <td>417859.000000</td>\n",
              "      <td>875.581305</td>\n",
              "      <td>2.787965e+09</td>\n",
              "      <td>338.000000</td>\n",
              "      <td>8.500000</td>\n",
              "      <td>13752.000000</td>\n",
              "    </tr>\n",
              "  </tbody>\n",
              "</table>\n",
              "</div>"
            ],
            "text/plain": [
              "             budget             id  ...  vote_average    vote_count\n",
              "count  4.392000e+03    4392.000000  ...   4392.000000   4392.000000\n",
              "mean   3.164545e+07   49204.119991  ...      6.226935    754.441712\n",
              "std    4.162736e+07   80136.249777  ...      0.893215   1272.263761\n",
              "min    0.000000e+00       5.000000  ...      1.900000     10.000000\n",
              "25%    2.895962e+06    8403.500000  ...      5.700000     83.750000\n",
              "50%    1.700000e+07   13084.500000  ...      6.300000    288.500000\n",
              "75%    4.200000e+07   46831.250000  ...      6.800000    831.000000\n",
              "max    3.800000e+08  417859.000000  ...      8.500000  13752.000000\n",
              "\n",
              "[8 rows x 7 columns]"
            ]
          },
          "metadata": {
            "tags": []
          },
          "execution_count": 8
        }
      ]
    },
    {
      "cell_type": "code",
      "metadata": {
        "id": "a8_fCfSbzeBp",
        "colab_type": "code",
        "outputId": "c4e64061-0bd3-4853-88bf-b824826c312e",
        "colab": {
          "base_uri": "https://localhost:8080/",
          "height": 313
        }
      },
      "source": [
        "ax = sns.distplot(tmdb_10_o_mas_votos.vote_average)\n",
        "ax.set(xlabel = \"Nota Promedio\", ylabel = \"densidad\")\n",
        "ax.set_title(\"Grafico de distibución del Promedio de notas de TMDB\")"
      ],
      "execution_count": 0,
      "outputs": [
        {
          "output_type": "execute_result",
          "data": {
            "text/plain": [
              "Text(0.5, 1.0, 'Grafico de distibución del Promedio de notas de TMDB')"
            ]
          },
          "metadata": {
            "tags": []
          },
          "execution_count": 9
        },
        {
          "output_type": "display_data",
          "data": {
            "image/png": "[encoded data removed]",
            "text/plain": [
              "<Figure size 432x288 with 1 Axes>"
            ]
          },
          "metadata": {
            "tags": []
          }
        }
      ]
    },
    {
      "cell_type": "code",
      "metadata": {
        "id": "QvZtG3PphXmi",
        "colab_type": "code",
        "outputId": "e55537e9-2fa7-4adc-f223-0330679e47b6",
        "colab": {
          "base_uri": "https://localhost:8080/",
          "height": 313
        }
      },
      "source": [
        "ax = sns.distplot(tmdb_10_o_mas_votos.vote_average,\n",
        "             kde = False,\n",
        "             norm_hist = False)\n",
        "ax.set(xlabel = \"Nota Promedio\", ylabel = \"frecuencia\")\n",
        "ax.set_title(\"Grafico de distibución del Promedio de notas de TMDB\") "
      ],
      "execution_count": 0,
      "outputs": [
        {
          "output_type": "execute_result",
          "data": {
            "text/plain": [
              "Text(0.5, 1.0, 'Grafico de distibución del Promedio de notas de TMDB')"
            ]
          },
          "metadata": {
            "tags": []
          },
          "execution_count": 10
        },
        {
          "output_type": "display_data",
          "data": {
            "image/png": "[encoded data removed]",
            "text/plain": [
              "<Figure size 432x288 with 1 Axes>"
            ]
          },
          "metadata": {
            "tags": []
          }
        }
      ]
    },
    {
      "cell_type": "code",
      "metadata": {
        "id": "M6oGVToLheMR",
        "colab_type": "code",
        "outputId": "64203803-dcaa-4d6e-932e-64cccbda6dea",
        "colab": {
          "base_uri": "https://localhost:8080/",
          "height": 313
        }
      },
      "source": [
        "ax = sns.distplot(tmdb_10_o_mas_votos.vote_average)\n",
        "ax.set(xlabel = \"Nota Promedio\", ylabel = \"frecuencia\")\n",
        "ax.set_title(\"Grafico de distibución del Promedio de notas de TMDB\")"
      ],
      "execution_count": 0,
      "outputs": [
        {
          "output_type": "execute_result",
          "data": {
            "text/plain": [
              "Text(0.5, 1.0, 'Grafico de distibución del Promedio de notas de TMDB')"
            ]
          },
          "metadata": {
            "tags": []
          },
          "execution_count": 11
        },
        {
          "output_type": "display_data",
          "data": {
            "image/png": "[encoded data removed]",
            "text/plain": [
              "<Figure size 432x288 with 1 Axes>"
            ]
          },
          "metadata": {
            "tags": []
          }
        }
      ]
    },
    {
      "cell_type": "code",
      "metadata": {
        "id": "fI5LXadahh4i",
        "colab_type": "code",
        "outputId": "3caf0ef8-8c67-4e50-e49c-3ab3ab52f1ae",
        "colab": {
          "base_uri": "https://localhost:8080/",
          "height": 313
        }
      },
      "source": [
        "ax = sns.boxplot(tmdb_10_o_mas_votos.vote_average)\n",
        "ax.set(xlabel = \"Nota Promedio\")\n",
        "ax.set_title(\"Grafico de distibución del Promedio de notas de TMDB\")"
      ],
      "execution_count": 0,
      "outputs": [
        {
          "output_type": "execute_result",
          "data": {
            "text/plain": [
              "Text(0.5, 1.0, 'Grafico de distibución del Promedio de notas de TMDB')"
            ]
          },
          "metadata": {
            "tags": []
          },
          "execution_count": 12
        },
        {
          "output_type": "display_data",
          "data": {
            "image/png": "[encoded data removed]",
            "text/plain": [
              "<Figure size 432x288 with 1 Axes>"
            ]
          },
          "metadata": {
            "tags": []
          }
        }
      ]
    },
    {
      "cell_type": "code",
      "metadata": {
        "id": "LIwBrt92hu1T",
        "colab_type": "code",
        "outputId": "75022e89-8dd1-46f0-a7f3-970cdc63283e",
        "colab": {
          "base_uri": "https://localhost:8080/",
          "height": 198
        }
      },
      "source": [
        "notas = pd.read_csv(\"ratings.csv\")\n",
        "notas.head()"
      ],
      "execution_count": 0,
      "outputs": [
        {
          "output_type": "execute_result",
          "data": {
            "text/html": [
              "<div>\n",
              "<style scoped>\n",
              "    .dataframe tbody tr th:only-of-type {\n",
              "        vertical-align: middle;\n",
              "    }\n",
              "\n",
              "    .dataframe tbody tr th {\n",
              "        vertical-align: top;\n",
              "    }\n",
              "\n",
              "    .dataframe thead th {\n",
              "        text-align: right;\n",
              "    }\n",
              "</style>\n",
              "<table border=\"1\" class=\"dataframe\">\n",
              "  <thead>\n",
              "    <tr style=\"text-align: right;\">\n",
              "      <th></th>\n",
              "      <th>userId</th>\n",
              "      <th>movieId</th>\n",
              "      <th>rating</th>\n",
              "      <th>timestamp</th>\n",
              "    </tr>\n",
              "  </thead>\n",
              "  <tbody>\n",
              "    <tr>\n",
              "      <th>0</th>\n",
              "      <td>1</td>\n",
              "      <td>1</td>\n",
              "      <td>4.0</td>\n",
              "      <td>964982703</td>\n",
              "    </tr>\n",
              "    <tr>\n",
              "      <th>1</th>\n",
              "      <td>1</td>\n",
              "      <td>3</td>\n",
              "      <td>4.0</td>\n",
              "      <td>964981247</td>\n",
              "    </tr>\n",
              "    <tr>\n",
              "      <th>2</th>\n",
              "      <td>1</td>\n",
              "      <td>6</td>\n",
              "      <td>4.0</td>\n",
              "      <td>964982224</td>\n",
              "    </tr>\n",
              "    <tr>\n",
              "      <th>3</th>\n",
              "      <td>1</td>\n",
              "      <td>47</td>\n",
              "      <td>5.0</td>\n",
              "      <td>964983815</td>\n",
              "    </tr>\n",
              "    <tr>\n",
              "      <th>4</th>\n",
              "      <td>1</td>\n",
              "      <td>50</td>\n",
              "      <td>5.0</td>\n",
              "      <td>964982931</td>\n",
              "    </tr>\n",
              "  </tbody>\n",
              "</table>\n",
              "</div>"
            ],
            "text/plain": [
              "   userId  movieId  rating  timestamp\n",
              "0       1        1     4.0  964982703\n",
              "1       1        3     4.0  964981247\n",
              "2       1        6     4.0  964982224\n",
              "3       1       47     5.0  964983815\n",
              "4       1       50     5.0  964982931"
            ]
          },
          "metadata": {
            "tags": []
          },
          "execution_count": 13
        }
      ]
    },
    {
      "cell_type": "code",
      "metadata": {
        "id": "zpLA0uyuiizF",
        "colab_type": "code",
        "outputId": "7bca7f0a-e1fd-46b0-80be-527b0b8e771b",
        "colab": {
          "base_uri": "https://localhost:8080/",
          "height": 145
        }
      },
      "source": [
        "nota_promedio_por_pelicula = notas.groupby(\"movieId\").mean()[\"rating\"]\n",
        "nota_promedio_por_pelicula.head()"
      ],
      "execution_count": 0,
      "outputs": [
        {
          "output_type": "execute_result",
          "data": {
            "text/plain": [
              "movieId\n",
              "1    3.920930\n",
              "2    3.431818\n",
              "3    3.259615\n",
              "4    2.357143\n",
              "5    3.071429\n",
              "Name: rating, dtype: float64"
            ]
          },
          "metadata": {
            "tags": []
          },
          "execution_count": 14
        }
      ]
    },
    {
      "cell_type": "code",
      "metadata": {
        "id": "VVZGzv4Wi1YW",
        "colab_type": "code",
        "outputId": "ed8b87ad-e1bf-4ccc-b5d6-bb1cf560e56f",
        "colab": {
          "base_uri": "https://localhost:8080/",
          "height": 283
        }
      },
      "source": [
        "sns.distplot(nota_promedio_por_pelicula.values)"
      ],
      "execution_count": 0,
      "outputs": [
        {
          "output_type": "execute_result",
          "data": {
            "text/plain": [
              "<matplotlib.axes._subplots.AxesSubplot at 0x7f208fce5c18>"
            ]
          },
          "metadata": {
            "tags": []
          },
          "execution_count": 15
        },
        {
          "output_type": "display_data",
          "data": {
            "image/png": "[encoded data removed]",
            "text/plain": [
              "<Figure size 432x288 with 1 Axes>"
            ]
          },
          "metadata": {
            "tags": []
          }
        }
      ]
    },
    {
      "cell_type": "code",
      "metadata": {
        "id": "BUA10yaujgc4",
        "colab_type": "code",
        "outputId": "316328c1-1232-405b-87d0-b91ac2e6bda9",
        "colab": {
          "base_uri": "https://localhost:8080/",
          "height": 228
        }
      },
      "source": [
        "cantidad_votos_por_pelicula = notas.groupby(\"movieId\").count()\n",
        "cantidad_votos_por_pelicula.head()"
      ],
      "execution_count": 0,
      "outputs": [
        {
          "output_type": "execute_result",
          "data": {
            "text/html": [
              "<div>\n",
              "<style scoped>\n",
              "    .dataframe tbody tr th:only-of-type {\n",
              "        vertical-align: middle;\n",
              "    }\n",
              "\n",
              "    .dataframe tbody tr th {\n",
              "        vertical-align: top;\n",
              "    }\n",
              "\n",
              "    .dataframe thead th {\n",
              "        text-align: right;\n",
              "    }\n",
              "</style>\n",
              "<table border=\"1\" class=\"dataframe\">\n",
              "  <thead>\n",
              "    <tr style=\"text-align: right;\">\n",
              "      <th></th>\n",
              "      <th>userId</th>\n",
              "      <th>rating</th>\n",
              "      <th>timestamp</th>\n",
              "    </tr>\n",
              "    <tr>\n",
              "      <th>movieId</th>\n",
              "      <th></th>\n",
              "      <th></th>\n",
              "      <th></th>\n",
              "    </tr>\n",
              "  </thead>\n",
              "  <tbody>\n",
              "    <tr>\n",
              "      <th>1</th>\n",
              "      <td>215</td>\n",
              "      <td>215</td>\n",
              "      <td>215</td>\n",
              "    </tr>\n",
              "    <tr>\n",
              "      <th>2</th>\n",
              "      <td>110</td>\n",
              "      <td>110</td>\n",
              "      <td>110</td>\n",
              "    </tr>\n",
              "    <tr>\n",
              "      <th>3</th>\n",
              "      <td>52</td>\n",
              "      <td>52</td>\n",
              "      <td>52</td>\n",
              "    </tr>\n",
              "    <tr>\n",
              "      <th>4</th>\n",
              "      <td>7</td>\n",
              "      <td>7</td>\n",
              "      <td>7</td>\n",
              "    </tr>\n",
              "    <tr>\n",
              "      <th>5</th>\n",
              "      <td>49</td>\n",
              "      <td>49</td>\n",
              "      <td>49</td>\n",
              "    </tr>\n",
              "  </tbody>\n",
              "</table>\n",
              "</div>"
            ],
            "text/plain": [
              "         userId  rating  timestamp\n",
              "movieId                           \n",
              "1           215     215        215\n",
              "2           110     110        110\n",
              "3            52      52         52\n",
              "4             7       7          7\n",
              "5            49      49         49"
            ]
          },
          "metadata": {
            "tags": []
          },
          "execution_count": 16
        }
      ]
    },
    {
      "cell_type": "code",
      "metadata": {
        "id": "xDl4KndUkB7T",
        "colab_type": "code",
        "colab": {}
      },
      "source": [
        "peliculas_10_o_mas_votos = cantidad_votos_por_pelicula.query(\"rating >= 10\").index"
      ],
      "execution_count": 0,
      "outputs": []
    },
    {
      "cell_type": "code",
      "metadata": {
        "id": "MkUXseQSkd9W",
        "colab_type": "code",
        "outputId": "bfedf189-1e6c-4118-b649-4ac74c44b65a",
        "colab": {
          "base_uri": "https://localhost:8080/",
          "height": 126
        }
      },
      "source": [
        "peliculas_10_o_mas_votos"
      ],
      "execution_count": 0,
      "outputs": [
        {
          "output_type": "execute_result",
          "data": {
            "text/plain": [
              "Int64Index([     1,      2,      3,      5,      6,      7,      9,     10,\n",
              "                11,     12,\n",
              "            ...\n",
              "            166461, 166528, 166643, 168250, 168252, 174055, 176371, 177765,\n",
              "            179819, 187593],\n",
              "           dtype='int64', name='movieId', length=2269)"
            ]
          },
          "metadata": {
            "tags": []
          },
          "execution_count": 18
        }
      ]
    },
    {
      "cell_type": "code",
      "metadata": {
        "id": "8cJ0LcF5kiYG",
        "colab_type": "code",
        "outputId": "b7860c2c-8ba6-4474-94ff-3da1929ee246",
        "colab": {
          "base_uri": "https://localhost:8080/",
          "height": 145
        }
      },
      "source": [
        "nota_promedio_por_pelicula_10_o_mas_votos = nota_promedio_por_pelicula.loc[peliculas_10_o_mas_votos.values]\n",
        "nota_promedio_por_pelicula_10_o_mas_votos.head()"
      ],
      "execution_count": 0,
      "outputs": [
        {
          "output_type": "execute_result",
          "data": {
            "text/plain": [
              "movieId\n",
              "1    3.920930\n",
              "2    3.431818\n",
              "3    3.259615\n",
              "5    3.071429\n",
              "6    3.946078\n",
              "Name: rating, dtype: float64"
            ]
          },
          "metadata": {
            "tags": []
          },
          "execution_count": 19
        }
      ]
    },
    {
      "cell_type": "code",
      "metadata": {
        "id": "8jjjz7Gmk_wj",
        "colab_type": "code",
        "outputId": "d367ec1d-a897-46e2-b637-10a7665abb48",
        "colab": {
          "base_uri": "https://localhost:8080/",
          "height": 313
        }
      },
      "source": [
        "ax = sns.distplot(nota_promedio_por_pelicula_10_o_mas_votos.values)\n",
        "ax.set(xlabel = \"Nota Promedio\", ylabel = \"densidad\")\n",
        "ax.set_title(\"Grafico de distibución del Promedio de notas de Movielens\")"
      ],
      "execution_count": 0,
      "outputs": [
        {
          "output_type": "execute_result",
          "data": {
            "text/plain": [
              "Text(0.5, 1.0, 'Grafico de distibución del Promedio de notas de Movielens')"
            ]
          },
          "metadata": {
            "tags": []
          },
          "execution_count": 20
        },
        {
          "output_type": "display_data",
          "data": {
            "image/png": "[encoded data removed]",
            "text/plain": [
              "<Figure size 432x288 with 1 Axes>"
            ]
          },
          "metadata": {
            "tags": []
          }
        }
      ]
    },
    {
      "cell_type": "code",
      "metadata": {
        "id": "QpcvsBLMlQT0",
        "colab_type": "code",
        "outputId": "3f8d640c-8fdc-40fa-e554-cb32612ba8bc",
        "colab": {
          "base_uri": "https://localhost:8080/",
          "height": 313
        }
      },
      "source": [
        "ax = sns.distplot(nota_promedio_por_pelicula_10_o_mas_votos.values,\n",
        "                   kde = False,\n",
        "             norm_hist = False)\n",
        "ax.set(xlabel = \"Nota Promedio\", ylabel = \"densidad\")\n",
        "ax.set_title(\"Grafico de distibución del Promedio de notas de Movielens\")"
      ],
      "execution_count": 0,
      "outputs": [
        {
          "output_type": "execute_result",
          "data": {
            "text/plain": [
              "Text(0.5, 1.0, 'Grafico de distibución del Promedio de notas de Movielens')"
            ]
          },
          "metadata": {
            "tags": []
          },
          "execution_count": 21
        },
        {
          "output_type": "display_data",
          "data": {
            "image/png": "[encoded data removed]",
            "text/plain": [
              "<Figure size 432x288 with 1 Axes>"
            ]
          },
          "metadata": {
            "tags": []
          }
        }
      ]
    },
    {
      "cell_type": "code",
      "metadata": {
        "id": "nZY55a3Wlfj2",
        "colab_type": "code",
        "outputId": "184e2921-df45-4a79-a039-faebd8bd3ac3",
        "colab": {
          "base_uri": "https://localhost:8080/",
          "height": 313
        }
      },
      "source": [
        "ax = sns.boxplot(nota_promedio_por_pelicula_10_o_mas_votos.values)\n",
        "ax.set(xlabel = \"Nota Promedio\")\n",
        "ax.set_title(\"Grafico de distibución del Promedio de notas de Movielens\")"
      ],
      "execution_count": 0,
      "outputs": [
        {
          "output_type": "execute_result",
          "data": {
            "text/plain": [
              "Text(0.5, 1.0, 'Grafico de distibución del Promedio de notas de Movielens')"
            ]
          },
          "metadata": {
            "tags": []
          },
          "execution_count": 22
        },
        {
          "output_type": "display_data",
          "data": {
            "image/png": "[encoded data removed]",
            "text/plain": [
              "<Figure size 432x288 with 1 Axes>"
            ]
          },
          "metadata": {
            "tags": []
          }
        }
      ]
    },
    {
      "cell_type": "code",
      "metadata": {
        "id": "Wy9uskBXltEF",
        "colab_type": "code",
        "outputId": "d7b73612-8a3d-40dd-f6fc-f3083a6aad68",
        "colab": {
          "base_uri": "https://localhost:8080/",
          "height": 313
        }
      },
      "source": [
        "ax = sns.distplot(nota_promedio_por_pelicula_10_o_mas_votos.values,\n",
        "                  hist_kws = {\"cumulative\":True},\n",
        "                  kde_kws = {\"cumulative\":True})\n",
        "ax.set(xlabel = \"Nota Promedio\", ylabel = \"% Acumulado\")\n",
        "ax.set_title(\"Grafico de distibución del Promedio de notas de Movielens\")"
      ],
      "execution_count": 0,
      "outputs": [
        {
          "output_type": "execute_result",
          "data": {
            "text/plain": [
              "Text(0.5, 1.0, 'Grafico de distibución del Promedio de notas de Movielens')"
            ]
          },
          "metadata": {
            "tags": []
          },
          "execution_count": 23
        },
        {
          "output_type": "display_data",
          "data": {
            "image/png": "[encoded data removed]",
            "text/plain": [
              "<Figure size 432x288 with 1 Axes>"
            ]
          },
          "metadata": {
            "tags": []
          }
        }
      ]
    },
    {
      "cell_type": "code",
      "metadata": {
        "id": "GzBVg-EcqtYM",
        "colab_type": "code",
        "outputId": "7c9f1296-33ae-477a-b837-339596fef76b",
        "colab": {
          "base_uri": "https://localhost:8080/",
          "height": 313
        }
      },
      "source": [
        "ax = sns.distplot(tmdb_10_o_mas_votos.vote_average,\n",
        "                  hist_kws = {\"cumulative\":True},\n",
        "                  kde_kws = {\"cumulative\":True})\n",
        "ax.set(xlabel = \"Nota Promedio\", ylabel = \"% Acumulado\")\n",
        "ax.set_title(\"Grafico de distibución del Promedio de notas de TMDB\")"
      ],
      "execution_count": 0,
      "outputs": [
        {
          "output_type": "execute_result",
          "data": {
            "text/plain": [
              "Text(0.5, 1.0, 'Grafico de distibución del Promedio de notas de TMDB')"
            ]
          },
          "metadata": {
            "tags": []
          },
          "execution_count": 24
        },
        {
          "output_type": "display_data",
          "data": {
            "image/png": "[encoded data removed]",
            "text/plain": [
              "<Figure size 432x288 with 1 Axes>"
            ]
          },
          "metadata": {
            "tags": []
          }
        }
      ]
    },
    {
      "cell_type": "markdown",
      "metadata": {
        "id": "S4sD2bPulYbK",
        "colab_type": "text"
      },
      "source": [
        "#Analizando otras variables"
      ]
    },
    {
      "cell_type": "code",
      "metadata": {
        "id": "zPAFnTNqlBqZ",
        "colab_type": "code",
        "outputId": "4fc7cd56-d6f1-40be-ecf5-7ce07d5bbfe1",
        "colab": {
          "base_uri": "https://localhost:8080/",
          "height": 313
        }
      },
      "source": [
        "ax = sns.distplot(tmdb_10_o_mas_votos.vote_count)\n",
        "ax.set(xlabel = \"Cantidad de Votos\", ylabel = \"frecuencia\")\n",
        "ax.set_title(\"Grafico de distibución de la cantidad de votos de TMDB\")"
      ],
      "execution_count": 0,
      "outputs": [
        {
          "output_type": "execute_result",
          "data": {
            "text/plain": [
              "Text(0.5, 1.0, 'Grafico de distibución de la cantidad de votos de TMDB')"
            ]
          },
          "metadata": {
            "tags": []
          },
          "execution_count": 25
        },
        {
          "output_type": "display_data",
          "data": {
            "image/png": "[encoded data removed]",
            "text/plain": [
              "<Figure size 432x288 with 1 Axes>"
            ]
          },
          "metadata": {
            "tags": []
          }
        }
      ]
    },
    {
      "cell_type": "code",
      "metadata": {
        "id": "KOWgLnbvl5F-",
        "colab_type": "code",
        "outputId": "9af29773-ad95-411a-ae36-50540616e399",
        "colab": {
          "base_uri": "https://localhost:8080/",
          "height": 315
        }
      },
      "source": [
        "ax = sns.distplot(tmdb.query(\"budget > 0\").budget)\n",
        "ax.set(xlabel = \"Presupuesto de las películas\", ylabel = \"frecuencia\")\n",
        "ax.set_title(\"Gráfico de distibución del presupuesto de las películas de TMDB\")"
      ],
      "execution_count": 0,
      "outputs": [
        {
          "output_type": "execute_result",
          "data": {
            "text/plain": [
              "Text(0.5, 1.0, 'Gráfico de distibución del presupuesto de las películas de TMDB')"
            ]
          },
          "metadata": {
            "tags": []
          },
          "execution_count": 26
        },
        {
          "output_type": "display_data",
          "data": {
            "image/png": "[encoded data removed]",
            "text/plain": [
              "<Figure size 432x288 with 1 Axes>"
            ]
          },
          "metadata": {
            "tags": []
          }
        }
      ]
    },
    {
      "cell_type": "code",
      "metadata": {
        "id": "Q8jLg53RmQap",
        "colab_type": "code",
        "outputId": "152b10b7-2bd0-45de-cfd5-c1987b1de0ba",
        "colab": {
          "base_uri": "https://localhost:8080/",
          "height": 315
        }
      },
      "source": [
        "ax = sns.distplot(tmdb.popularity)\n",
        "ax.set(xlabel = \"Popularidad de las películas\", ylabel = \"frecuencia\")\n",
        "ax.set_title(\"Gráfico de distibución de la popularidad de las películas de TMDB\")\n"
      ],
      "execution_count": 0,
      "outputs": [
        {
          "output_type": "execute_result",
          "data": {
            "text/plain": [
              "Text(0.5, 1.0, 'Gráfico de distibución de la popularidad de las películas de TMDB')"
            ]
          },
          "metadata": {
            "tags": []
          },
          "execution_count": 27
        },
        {
          "output_type": "display_data",
          "data": {
            "image/png": "[encoded data removed]",
            "text/plain": [
              "<Figure size 432x288 with 1 Axes>"
            ]
          },
          "metadata": {
            "tags": []
          }
        }
      ]
    },
    {
      "cell_type": "code",
      "metadata": {
        "id": "8pAFmwuGnM66",
        "colab_type": "code",
        "outputId": "2b60e33b-8f64-40a0-d48e-734729a2872c",
        "colab": {
          "base_uri": "https://localhost:8080/",
          "height": 315
        }
      },
      "source": [
        "ax = sns.distplot(tmdb.query(\"runtime > 0\").runtime.dropna())\n",
        "ax.set(xlabel = \"Duración de las películas\", ylabel = \"frecuencia\")\n",
        "ax.set_title(\"Gráfico de distibución de la duración de las películas de TMDB\")"
      ],
      "execution_count": 0,
      "outputs": [
        {
          "output_type": "execute_result",
          "data": {
            "text/plain": [
              "Text(0.5, 1.0, 'Gráfico de distibución de la duración de las películas de TMDB')"
            ]
          },
          "metadata": {
            "tags": []
          },
          "execution_count": 28
        },
        {
          "output_type": "display_data",
          "data": {
            "image/png": "[encoded data removed]",
            "text/plain": [
              "<Figure size 432x288 with 1 Axes>"
            ]
          },
          "metadata": {
            "tags": []
          }
        }
      ]
    },
    {
      "cell_type": "code",
      "metadata": {
        "id": "BRKp5KRzoWPJ",
        "colab_type": "code",
        "outputId": "1dfa579e-4cf7-4d18-95cd-71935407c93a",
        "colab": {
          "base_uri": "https://localhost:8080/",
          "height": 313
        }
      },
      "source": [
        "ax = sns.distplot(tmdb.query(\"runtime > 0\").runtime.dropna(),\n",
        "                  hist_kws = {\"cumulative\":True},\n",
        "                  kde_kws = {\"cumulative\":True})\n",
        "ax.set(xlabel = \"Duración\", ylabel = \"% Acumulado\")\n",
        "ax.set_title(\"Grafico de distibución de la duración de las películas de TMDB\")"
      ],
      "execution_count": 0,
      "outputs": [
        {
          "output_type": "execute_result",
          "data": {
            "text/plain": [
              "Text(0.5, 1.0, 'Grafico de distibución de la duración de las películas de TMDB')"
            ]
          },
          "metadata": {
            "tags": []
          },
          "execution_count": 29
        },
        {
          "output_type": "display_data",
          "data": {
            "image/png": "[encoded data removed]",
            "text/plain": [
              "<Figure size 432x288 with 1 Axes>"
            ]
          },
          "metadata": {
            "tags": []
          }
        }
      ]
    },
    {
      "cell_type": "code",
      "metadata": {
        "id": "jU0pTDCopGxF",
        "colab_type": "code",
        "outputId": "0a8f02b2-cd0b-44b8-8611-ec3a3e814d4e",
        "colab": {
          "base_uri": "https://localhost:8080/",
          "height": 35
        }
      },
      "source": [
        "tmdb.query(\"runtime > 0\").runtime.dropna().quantile(0.8)"
      ],
      "execution_count": 0,
      "outputs": [
        {
          "output_type": "execute_result",
          "data": {
            "text/plain": [
              "121.0"
            ]
          },
          "metadata": {
            "tags": []
          },
          "execution_count": 30
        }
      ]
    },
    {
      "cell_type": "markdown",
      "metadata": {
        "id": "WgytlK5H14Ur",
        "colab_type": "text"
      },
      "source": [
        "#Efecto del tamaño de la muestra"
      ]
    },
    {
      "cell_type": "code",
      "metadata": {
        "id": "tQInC2xs13Nh",
        "colab_type": "code",
        "outputId": "8b092672-2a16-4cd0-c878-ea13f1785bd5",
        "colab": {
          "base_uri": "https://localhost:8080/",
          "height": 35
        }
      },
      "source": [
        "nota_promedio_por_pelicula_10_o_mas_votos.mean()"
      ],
      "execution_count": 0,
      "outputs": [
        {
          "output_type": "execute_result",
          "data": {
            "text/plain": [
              "3.4320503405352603"
            ]
          },
          "metadata": {
            "tags": []
          },
          "execution_count": 31
        }
      ]
    },
    {
      "cell_type": "code",
      "metadata": {
        "id": "LFIwH-m12Bk-",
        "colab_type": "code",
        "outputId": "600b657f-a178-4c98-f1fa-a1ae5b9609c5",
        "colab": {
          "base_uri": "https://localhost:8080/",
          "height": 35
        }
      },
      "source": [
        "len(nota_promedio_por_pelicula_10_o_mas_votos)"
      ],
      "execution_count": 0,
      "outputs": [
        {
          "output_type": "execute_result",
          "data": {
            "text/plain": [
              "2269"
            ]
          },
          "metadata": {
            "tags": []
          },
          "execution_count": 32
        }
      ]
    },
    {
      "cell_type": "code",
      "metadata": {
        "id": "f5SBDsPQ2jlc",
        "colab_type": "code",
        "outputId": "32b41cc5-dea6-4792-c513-d48dd64cb3c9",
        "colab": {
          "base_uri": "https://localhost:8080/",
          "height": 35
        }
      },
      "source": [
        "nota_promedio_por_pelicula_10_o_mas_votos[0:5].mean()"
      ],
      "execution_count": 0,
      "outputs": [
        {
          "output_type": "execute_result",
          "data": {
            "text/plain": [
              "3.5259741603585653"
            ]
          },
          "metadata": {
            "tags": []
          },
          "execution_count": 33
        }
      ]
    },
    {
      "cell_type": "code",
      "metadata": {
        "id": "ab_0cG-82qy4",
        "colab_type": "code",
        "outputId": "eb78564b-3b9a-4735-f72e-2199e09be782",
        "colab": {
          "base_uri": "https://localhost:8080/",
          "height": 283
        }
      },
      "source": [
        "import matplotlib.pyplot as plt\n",
        "\n",
        "\n",
        "promedios = list()\n",
        "for i in range(1,len(nota_promedio_por_pelicula_10_o_mas_votos)):\n",
        "   promedios.append(nota_promedio_por_pelicula_10_o_mas_votos[0:i].mean()) \n",
        "\n",
        "promedios\n",
        "\n",
        "plt.plot(promedios)\n",
        "\n"
      ],
      "execution_count": 0,
      "outputs": [
        {
          "output_type": "execute_result",
          "data": {
            "text/plain": [
              "[<matplotlib.lines.Line2D at 0x7f208f411d68>]"
            ]
          },
          "metadata": {
            "tags": []
          },
          "execution_count": 34
        },
        {
          "output_type": "display_data",
          "data": {
            "image/png": "[encoded data removed]",
            "text/plain": [
              "<Figure size 432x288 with 1 Axes>"
            ]
          },
          "metadata": {
            "tags": []
          }
        }
      ]
    },
    {
      "cell_type": "code",
      "metadata": {
        "id": "EnaAe4aO4W9h",
        "colab_type": "code",
        "outputId": "3897b527-763e-4c28-db87-03f379e92a69",
        "colab": {
          "base_uri": "https://localhost:8080/",
          "height": 285
        }
      },
      "source": [
        "import matplotlib.pyplot as plt\n",
        "import numpy as np\n",
        "\n",
        "np.random.seed(75241)\n",
        "temp = nota_promedio_por_pelicula_10_o_mas_votos.sample(frac=1)\n",
        "promedios = list()\n",
        "for i in range(1,len(temp)):\n",
        "   promedios.append(temp[0:i].mean()) \n",
        "\n",
        "promedios\n",
        "\n",
        "plt.plot(promedios)"
      ],
      "execution_count": 0,
      "outputs": [
        {
          "output_type": "execute_result",
          "data": {
            "text/plain": [
              "[<matplotlib.lines.Line2D at 0x7f208f36fef0>]"
            ]
          },
          "metadata": {
            "tags": []
          },
          "execution_count": 35
        },
        {
          "output_type": "display_data",
          "data": {
            "image/png": "[encoded data removed]",
            "text/plain": [
              "<Figure size 432x288 with 1 Axes>"
            ]
          },
          "metadata": {
            "tags": []
          }
        }
      ]
    },
    {
      "cell_type": "markdown",
      "metadata": {
        "id": "EfTB70EwYcSa",
        "colab_type": "text"
      },
      "source": [
        "#Analizando Tests Estadísitcos Z Test - T Test"
      ]
    },
    {
      "cell_type": "code",
      "metadata": {
        "id": "HDqSj0ypX1vs",
        "colab_type": "code",
        "outputId": "6cdc5999-1b7e-4729-d5a8-1a624cd9a29a",
        "colab": {
          "base_uri": "https://localhost:8080/",
          "height": 35
        }
      },
      "source": [
        "nota_promedio_por_pelicula_10_o_mas_votos.mean()"
      ],
      "execution_count": 0,
      "outputs": [
        {
          "output_type": "execute_result",
          "data": {
            "text/plain": [
              "3.4320503405352603"
            ]
          },
          "metadata": {
            "tags": []
          },
          "execution_count": 36
        }
      ]
    },
    {
      "cell_type": "code",
      "metadata": {
        "id": "N-v8dqagYlJB",
        "colab_type": "code",
        "outputId": "4fade52e-cfee-4f4d-8e87-10d744d297d4",
        "colab": {
          "base_uri": "https://localhost:8080/",
          "height": 35
        }
      },
      "source": [
        "from statsmodels.stats.weightstats import zconfint\n",
        "\n",
        "zconfint(nota_promedio_por_pelicula_10_o_mas_votos)"
      ],
      "execution_count": 0,
      "outputs": [
        {
          "output_type": "execute_result",
          "data": {
            "text/plain": [
              "(3.4112459477469557, 3.452854733323563)"
            ]
          },
          "metadata": {
            "tags": []
          },
          "execution_count": 37
        }
      ]
    },
    {
      "cell_type": "code",
      "metadata": {
        "id": "eNEo17x8YT11",
        "colab_type": "code",
        "outputId": "3edfa1e9-4b3d-4b8c-d49a-0b7c2b0b0d02",
        "colab": {
          "base_uri": "https://localhost:8080/",
          "height": 35
        }
      },
      "source": [
        "from statsmodels.stats.weightstats import DescrStatsW\n",
        "\n",
        "descr_notas_10_votos = DescrStatsW(nota_promedio_por_pelicula_10_o_mas_votos)\n",
        "descr_notas_10_votos.tconfint_mean()\n",
        "\n"
      ],
      "execution_count": 0,
      "outputs": [
        {
          "output_type": "execute_result",
          "data": {
            "text/plain": [
              "(3.411234839229381, 3.4528658418411395)"
            ]
          },
          "metadata": {
            "tags": []
          },
          "execution_count": 38
        }
      ]
    },
    {
      "cell_type": "code",
      "metadata": {
        "id": "c3aa0lODaL6N",
        "colab_type": "code",
        "outputId": "2e6810b8-ad02-45f9-c132-a1bf20f0c6c1",
        "colab": {
          "base_uri": "https://localhost:8080/",
          "height": 35
        }
      },
      "source": [
        "descr_notas_10_votos.zconfint_mean()"
      ],
      "execution_count": 0,
      "outputs": [
        {
          "output_type": "execute_result",
          "data": {
            "text/plain": [
              "(3.4112459477469566, 3.452854733323564)"
            ]
          },
          "metadata": {
            "tags": []
          },
          "execution_count": 39
        }
      ]
    },
    {
      "cell_type": "markdown",
      "metadata": {
        "id": "vy-JfbP8ieV0",
        "colab_type": "text"
      },
      "source": [
        "#Analizando una películas específica"
      ]
    },
    {
      "cell_type": "code",
      "metadata": {
        "id": "IMcGIk-qh7_t",
        "colab_type": "code",
        "colab": {}
      },
      "source": [
        "#media = 3.43\n",
        "#int(3.41,3.45)"
      ],
      "execution_count": 0,
      "outputs": []
    },
    {
      "cell_type": "code",
      "metadata": {
        "id": "mCB6VqyHiIJK",
        "colab_type": "code",
        "colab": {}
      },
      "source": [
        "peliculas = pd.read_csv(\"movies.csv\")"
      ],
      "execution_count": 0,
      "outputs": []
    },
    {
      "cell_type": "code",
      "metadata": {
        "id": "3SF_K2pkiPC9",
        "colab_type": "code",
        "outputId": "262136f2-b673-4de5-dfa7-93f4d41eb4bc",
        "colab": {
          "base_uri": "https://localhost:8080/",
          "height": 198
        }
      },
      "source": [
        "peliculas.head()"
      ],
      "execution_count": 0,
      "outputs": [
        {
          "output_type": "execute_result",
          "data": {
            "text/html": [
              "<div>\n",
              "<style scoped>\n",
              "    .dataframe tbody tr th:only-of-type {\n",
              "        vertical-align: middle;\n",
              "    }\n",
              "\n",
              "    .dataframe tbody tr th {\n",
              "        vertical-align: top;\n",
              "    }\n",
              "\n",
              "    .dataframe thead th {\n",
              "        text-align: right;\n",
              "    }\n",
              "</style>\n",
              "<table border=\"1\" class=\"dataframe\">\n",
              "  <thead>\n",
              "    <tr style=\"text-align: right;\">\n",
              "      <th></th>\n",
              "      <th>movieId</th>\n",
              "      <th>title</th>\n",
              "      <th>genres</th>\n",
              "    </tr>\n",
              "  </thead>\n",
              "  <tbody>\n",
              "    <tr>\n",
              "      <th>0</th>\n",
              "      <td>1</td>\n",
              "      <td>Toy Story (1995)</td>\n",
              "      <td>Adventure|Animation|Children|Comedy|Fantasy</td>\n",
              "    </tr>\n",
              "    <tr>\n",
              "      <th>1</th>\n",
              "      <td>2</td>\n",
              "      <td>Jumanji (1995)</td>\n",
              "      <td>Adventure|Children|Fantasy</td>\n",
              "    </tr>\n",
              "    <tr>\n",
              "      <th>2</th>\n",
              "      <td>3</td>\n",
              "      <td>Grumpier Old Men (1995)</td>\n",
              "      <td>Comedy|Romance</td>\n",
              "    </tr>\n",
              "    <tr>\n",
              "      <th>3</th>\n",
              "      <td>4</td>\n",
              "      <td>Waiting to Exhale (1995)</td>\n",
              "      <td>Comedy|Drama|Romance</td>\n",
              "    </tr>\n",
              "    <tr>\n",
              "      <th>4</th>\n",
              "      <td>5</td>\n",
              "      <td>Father of the Bride Part II (1995)</td>\n",
              "      <td>Comedy</td>\n",
              "    </tr>\n",
              "  </tbody>\n",
              "</table>\n",
              "</div>"
            ],
            "text/plain": [
              "   movieId  ...                                       genres\n",
              "0        1  ...  Adventure|Animation|Children|Comedy|Fantasy\n",
              "1        2  ...                   Adventure|Children|Fantasy\n",
              "2        3  ...                               Comedy|Romance\n",
              "3        4  ...                         Comedy|Drama|Romance\n",
              "4        5  ...                                       Comedy\n",
              "\n",
              "[5 rows x 3 columns]"
            ]
          },
          "metadata": {
            "tags": []
          },
          "execution_count": 42
        }
      ]
    },
    {
      "cell_type": "code",
      "metadata": {
        "id": "DmgyrMmviRXo",
        "colab_type": "code",
        "outputId": "563faad0-c4cb-41ea-f0a3-566d5a9a3183",
        "colab": {
          "base_uri": "https://localhost:8080/",
          "height": 198
        }
      },
      "source": [
        "notas.head()"
      ],
      "execution_count": 0,
      "outputs": [
        {
          "output_type": "execute_result",
          "data": {
            "text/html": [
              "<div>\n",
              "<style scoped>\n",
              "    .dataframe tbody tr th:only-of-type {\n",
              "        vertical-align: middle;\n",
              "    }\n",
              "\n",
              "    .dataframe tbody tr th {\n",
              "        vertical-align: top;\n",
              "    }\n",
              "\n",
              "    .dataframe thead th {\n",
              "        text-align: right;\n",
              "    }\n",
              "</style>\n",
              "<table border=\"1\" class=\"dataframe\">\n",
              "  <thead>\n",
              "    <tr style=\"text-align: right;\">\n",
              "      <th></th>\n",
              "      <th>userId</th>\n",
              "      <th>movieId</th>\n",
              "      <th>rating</th>\n",
              "      <th>timestamp</th>\n",
              "    </tr>\n",
              "  </thead>\n",
              "  <tbody>\n",
              "    <tr>\n",
              "      <th>0</th>\n",
              "      <td>1</td>\n",
              "      <td>1</td>\n",
              "      <td>4.0</td>\n",
              "      <td>964982703</td>\n",
              "    </tr>\n",
              "    <tr>\n",
              "      <th>1</th>\n",
              "      <td>1</td>\n",
              "      <td>3</td>\n",
              "      <td>4.0</td>\n",
              "      <td>964981247</td>\n",
              "    </tr>\n",
              "    <tr>\n",
              "      <th>2</th>\n",
              "      <td>1</td>\n",
              "      <td>6</td>\n",
              "      <td>4.0</td>\n",
              "      <td>964982224</td>\n",
              "    </tr>\n",
              "    <tr>\n",
              "      <th>3</th>\n",
              "      <td>1</td>\n",
              "      <td>47</td>\n",
              "      <td>5.0</td>\n",
              "      <td>964983815</td>\n",
              "    </tr>\n",
              "    <tr>\n",
              "      <th>4</th>\n",
              "      <td>1</td>\n",
              "      <td>50</td>\n",
              "      <td>5.0</td>\n",
              "      <td>964982931</td>\n",
              "    </tr>\n",
              "  </tbody>\n",
              "</table>\n",
              "</div>"
            ],
            "text/plain": [
              "   userId  movieId  rating  timestamp\n",
              "0       1        1     4.0  964982703\n",
              "1       1        3     4.0  964981247\n",
              "2       1        6     4.0  964982224\n",
              "3       1       47     5.0  964983815\n",
              "4       1       50     5.0  964982931"
            ]
          },
          "metadata": {
            "tags": []
          },
          "execution_count": 43
        }
      ]
    },
    {
      "cell_type": "code",
      "metadata": {
        "id": "GjlB1LQ5ia4a",
        "colab_type": "code",
        "colab": {}
      },
      "source": [
        "notas1 = notas.query(\"movieId == 1\")"
      ],
      "execution_count": 0,
      "outputs": []
    },
    {
      "cell_type": "code",
      "metadata": {
        "id": "04YVDc5MirPs",
        "colab_type": "code",
        "outputId": "c2f8c962-dfd1-483f-d9a0-cdfb1591dcbf",
        "colab": {
          "base_uri": "https://localhost:8080/",
          "height": 407
        }
      },
      "source": [
        "notas1"
      ],
      "execution_count": 0,
      "outputs": [
        {
          "output_type": "execute_result",
          "data": {
            "text/html": [
              "<div>\n",
              "<style scoped>\n",
              "    .dataframe tbody tr th:only-of-type {\n",
              "        vertical-align: middle;\n",
              "    }\n",
              "\n",
              "    .dataframe tbody tr th {\n",
              "        vertical-align: top;\n",
              "    }\n",
              "\n",
              "    .dataframe thead th {\n",
              "        text-align: right;\n",
              "    }\n",
              "</style>\n",
              "<table border=\"1\" class=\"dataframe\">\n",
              "  <thead>\n",
              "    <tr style=\"text-align: right;\">\n",
              "      <th></th>\n",
              "      <th>userId</th>\n",
              "      <th>movieId</th>\n",
              "      <th>rating</th>\n",
              "      <th>timestamp</th>\n",
              "    </tr>\n",
              "  </thead>\n",
              "  <tbody>\n",
              "    <tr>\n",
              "      <th>0</th>\n",
              "      <td>1</td>\n",
              "      <td>1</td>\n",
              "      <td>4.0</td>\n",
              "      <td>964982703</td>\n",
              "    </tr>\n",
              "    <tr>\n",
              "      <th>516</th>\n",
              "      <td>5</td>\n",
              "      <td>1</td>\n",
              "      <td>4.0</td>\n",
              "      <td>847434962</td>\n",
              "    </tr>\n",
              "    <tr>\n",
              "      <th>874</th>\n",
              "      <td>7</td>\n",
              "      <td>1</td>\n",
              "      <td>4.5</td>\n",
              "      <td>1106635946</td>\n",
              "    </tr>\n",
              "    <tr>\n",
              "      <th>1434</th>\n",
              "      <td>15</td>\n",
              "      <td>1</td>\n",
              "      <td>2.5</td>\n",
              "      <td>1510577970</td>\n",
              "    </tr>\n",
              "    <tr>\n",
              "      <th>1667</th>\n",
              "      <td>17</td>\n",
              "      <td>1</td>\n",
              "      <td>4.5</td>\n",
              "      <td>1305696483</td>\n",
              "    </tr>\n",
              "    <tr>\n",
              "      <th>...</th>\n",
              "      <td>...</td>\n",
              "      <td>...</td>\n",
              "      <td>...</td>\n",
              "      <td>...</td>\n",
              "    </tr>\n",
              "    <tr>\n",
              "      <th>97364</th>\n",
              "      <td>606</td>\n",
              "      <td>1</td>\n",
              "      <td>2.5</td>\n",
              "      <td>1349082950</td>\n",
              "    </tr>\n",
              "    <tr>\n",
              "      <th>98479</th>\n",
              "      <td>607</td>\n",
              "      <td>1</td>\n",
              "      <td>4.0</td>\n",
              "      <td>964744033</td>\n",
              "    </tr>\n",
              "    <tr>\n",
              "      <th>98666</th>\n",
              "      <td>608</td>\n",
              "      <td>1</td>\n",
              "      <td>2.5</td>\n",
              "      <td>1117408267</td>\n",
              "    </tr>\n",
              "    <tr>\n",
              "      <th>99497</th>\n",
              "      <td>609</td>\n",
              "      <td>1</td>\n",
              "      <td>3.0</td>\n",
              "      <td>847221025</td>\n",
              "    </tr>\n",
              "    <tr>\n",
              "      <th>99534</th>\n",
              "      <td>610</td>\n",
              "      <td>1</td>\n",
              "      <td>5.0</td>\n",
              "      <td>1479542900</td>\n",
              "    </tr>\n",
              "  </tbody>\n",
              "</table>\n",
              "<p>215 rows × 4 columns</p>\n",
              "</div>"
            ],
            "text/plain": [
              "       userId  movieId  rating   timestamp\n",
              "0           1        1     4.0   964982703\n",
              "516         5        1     4.0   847434962\n",
              "874         7        1     4.5  1106635946\n",
              "1434       15        1     2.5  1510577970\n",
              "1667       17        1     4.5  1305696483\n",
              "...       ...      ...     ...         ...\n",
              "97364     606        1     2.5  1349082950\n",
              "98479     607        1     4.0   964744033\n",
              "98666     608        1     2.5  1117408267\n",
              "99497     609        1     3.0   847221025\n",
              "99534     610        1     5.0  1479542900\n",
              "\n",
              "[215 rows x 4 columns]"
            ]
          },
          "metadata": {
            "tags": []
          },
          "execution_count": 45
        }
      ]
    },
    {
      "cell_type": "code",
      "metadata": {
        "id": "FH-xHgR3isPI",
        "colab_type": "code",
        "outputId": "4ae22f51-5de4-4604-f0a7-c0b5df9aa394",
        "colab": {
          "base_uri": "https://localhost:8080/",
          "height": 313
        }
      },
      "source": [
        "ax = sns.distplot(notas1.rating)\n",
        "ax.set(xlabel = \"Nota Toy Story\", ylabel = \"densidad\")\n",
        "ax.set_title(\"Grafico de distibución de la nota de Toy Story\")"
      ],
      "execution_count": 0,
      "outputs": [
        {
          "output_type": "execute_result",
          "data": {
            "text/plain": [
              "Text(0.5, 1.0, 'Grafico de distibución de la nota de Toy Story')"
            ]
          },
          "metadata": {
            "tags": []
          },
          "execution_count": 46
        },
        {
          "output_type": "display_data",
          "data": {
            "image/png": "[encoded data removed]",
            "text/plain": [
              "<Figure size 432x288 with 1 Axes>"
            ]
          },
          "metadata": {
            "tags": []
          }
        }
      ]
    },
    {
      "cell_type": "code",
      "metadata": {
        "id": "6Uj8UUmxjCaV",
        "colab_type": "code",
        "outputId": "c85cf824-2041-4113-dc06-dc85ac3a26c3",
        "colab": {
          "base_uri": "https://localhost:8080/",
          "height": 313
        }
      },
      "source": [
        "ax = sns.boxplot(notas1.rating)\n",
        "ax.set(xlabel = \"Nota Toy Story\")\n",
        "ax.set_title(\"Grafico de distribución de notas de Toy Story\")"
      ],
      "execution_count": 0,
      "outputs": [
        {
          "output_type": "execute_result",
          "data": {
            "text/plain": [
              "Text(0.5, 1.0, 'Grafico de distribución de notas de Toy Story')"
            ]
          },
          "metadata": {
            "tags": []
          },
          "execution_count": 47
        },
        {
          "output_type": "display_data",
          "data": {
            "image/png": "[encoded data removed]",
            "text/plain": [
              "<Figure size 432x288 with 1 Axes>"
            ]
          },
          "metadata": {
            "tags": []
          }
        }
      ]
    },
    {
      "cell_type": "code",
      "metadata": {
        "id": "uN41Fi16jT3p",
        "colab_type": "code",
        "outputId": "ee2c24e3-9362-41b3-e9ff-4cf1ce2f09cf",
        "colab": {
          "base_uri": "https://localhost:8080/",
          "height": 35
        }
      },
      "source": [
        "zconfint(notas1.rating)"
      ],
      "execution_count": 0,
      "outputs": [
        {
          "output_type": "execute_result",
          "data": {
            "text/plain": [
              "(3.8093359183563402, 4.032524546759939)"
            ]
          },
          "metadata": {
            "tags": []
          },
          "execution_count": 48
        }
      ]
    },
    {
      "cell_type": "code",
      "metadata": {
        "id": "MavOWHbAj-lZ",
        "colab_type": "code",
        "outputId": "5bf52dd1-0615-467e-e32a-857f2e386d99",
        "colab": {
          "base_uri": "https://localhost:8080/",
          "height": 35
        }
      },
      "source": [
        "from statsmodels.stats.weightstats import ztest\n",
        "ztest(notas1.rating,nota_promedio_por_pelicula_10_o_mas_votos)\n"
      ],
      "execution_count": 0,
      "outputs": [
        {
          "output_type": "execute_result",
          "data": {
            "text/plain": [
              "(12.64176977802645, 1.2422593409480636e-36)"
            ]
          },
          "metadata": {
            "tags": []
          },
          "execution_count": 49
        }
      ]
    },
    {
      "cell_type": "code",
      "metadata": {
        "id": "U0QsIZmPkqTp",
        "colab_type": "code",
        "colab": {}
      },
      "source": [
        "#al rechazar nuestra hipotesis (nula) consideramos que la media de TS \n",
        "#es mayor que la media de las peliculas en general\n"
      ],
      "execution_count": 0,
      "outputs": []
    },
    {
      "cell_type": "code",
      "metadata": {
        "id": "5dxQ3lVB2Llc",
        "colab_type": "code",
        "outputId": "36604856-1149-4e0c-ef83-7c96c67fe416",
        "colab": {
          "base_uri": "https://localhost:8080/",
          "height": 283
        }
      },
      "source": [
        "np.random.seed(75241)\n",
        "temp = notas1.sample(frac=1).rating\n",
        "promedios = list()\n",
        "for i in range(1,len(temp)):\n",
        "   promedios.append(temp[0:i].mean()) \n",
        "\n",
        "promedios\n",
        "\n",
        "plt.plot(promedios)"
      ],
      "execution_count": 0,
      "outputs": [
        {
          "output_type": "execute_result",
          "data": {
            "text/plain": [
              "[<matplotlib.lines.Line2D at 0x7f208f127320>]"
            ]
          },
          "metadata": {
            "tags": []
          },
          "execution_count": 50
        },
        {
          "output_type": "display_data",
          "data": {
            "image/png": "[encoded data removed]",
            "text/plain": [
              "<Figure size 432x288 with 1 Axes>"
            ]
          },
          "metadata": {
            "tags": []
          }
        }
      ]
    },
    {
      "cell_type": "code",
      "metadata": {
        "id": "DbPleMB-2Vp5",
        "colab_type": "code",
        "outputId": "219ebd5e-a12b-4b71-f625-74b58f35ad67",
        "colab": {
          "base_uri": "https://localhost:8080/",
          "height": 1000
        }
      },
      "source": [
        "np.random.seed(75241)\n",
        "temp = notas1.sample(frac=1).rating\n",
        "promedios = list()\n",
        "\n",
        "def calcula_test(i):\n",
        "  media = temp[0:i].mean()\n",
        "  stat, p = ztest(temp[0:i],value = 3.4320503405352603)\n",
        "  return(i,p,media)\n",
        "\n",
        "for i in range(2,len(temp)):\n",
        "   promedios.append(calcula_test(i)) \n",
        "\n",
        "promedios"
      ],
      "execution_count": 0,
      "outputs": [
        {
          "output_type": "execute_result",
          "data": {
            "text/plain": [
              "[(2, 0.032687621135204896, 4.5),\n",
              " (3, 0.3252543510880489, 4.0),\n",
              " (4, 0.29952196979944745, 3.875),\n",
              " (5, 0.15826781784711086, 3.9),\n",
              " (6, 0.07406936464331344, 3.9166666666666665),\n",
              " (7, 0.03058372185045264, 3.9285714285714284),\n",
              " (8, 0.008546846816661634, 4.0625),\n",
              " (9, 0.034351369792154834, 3.9444444444444446),\n",
              " (10, 0.6797757440816464, 3.6),\n",
              " (11, 0.6661040559180447, 3.590909090909091),\n",
              " (12, 0.8452594429449549, 3.5),\n",
              " (13, 0.8319722700425317, 3.5),\n",
              " (14, 0.7285036535608292, 3.5357142857142856),\n",
              " (15, 0.5561564945645507, 3.6),\n",
              " (16, 0.6284166359766319, 3.5625),\n",
              " (17, 0.42056196093078513, 3.6470588235294117),\n",
              " (18, 0.2692718087435868, 3.7222222222222223),\n",
              " (19, 0.3157395629293568, 3.6842105263157894),\n",
              " (20, 0.36558117183067695, 3.65),\n",
              " (21, 0.5650170364597873, 3.5714285714285716),\n",
              " (22, 0.4930885087384419, 3.590909090909091),\n",
              " (23, 0.4265824656611449, 3.608695652173913),\n",
              " (24, 0.36578337526912086, 3.625),\n",
              " (25, 0.3108287352909964, 3.64),\n",
              " (26, 0.26171758950670954, 3.6538461538461537),\n",
              " (27, 0.2559999054486449, 3.6481481481481484),\n",
              " (28, 0.16314137427171593, 3.6964285714285716),\n",
              " (29, 0.10054986793464257, 3.7413793103448274),\n",
              " (30, 0.09812718831667805, 3.7333333333333334),\n",
              " (31, 0.07894877889458934, 3.7419354838709675),\n",
              " (32, 0.19389049416761317, 3.671875),\n",
              " (33, 0.18994435269346233, 3.6666666666666665),\n",
              " (34, 0.12400478766945784, 3.7058823529411766),\n",
              " (35, 0.07870821336871098, 3.742857142857143),\n",
              " (36, 0.09353576061527746, 3.7222222222222223),\n",
              " (37, 0.11013590254134484, 3.7027027027027026),\n",
              " (38, 0.070293980214127, 3.736842105263158),\n",
              " (39, 0.057719600728433226, 3.7435897435897436),\n",
              " (40, 0.06895669959313765, 3.725),\n",
              " (41, 0.043027696867534854, 3.7560975609756095),\n",
              " (42, 0.026192682251694282, 3.7857142857142856),\n",
              " (43, 0.015559932099710492, 3.813953488372093),\n",
              " (44, 0.01233272538941352, 3.8181818181818183),\n",
              " (45, 0.00971325069982623, 3.8222222222222224),\n",
              " (46, 0.012260404094830826, 3.8043478260869565),\n",
              " (47, 0.015299059283941084, 3.7872340425531914),\n",
              " (48, 0.008966188879749698, 3.8125),\n",
              " (49, 0.008766884002523942, 3.806122448979592),\n",
              " (50, 0.006897537294395224, 3.81),\n",
              " (51, 0.005394516156167565, 3.8137254901960786),\n",
              " (52, 0.004193844231736312, 3.8173076923076925),\n",
              " (53, 0.005385212289644282, 3.80188679245283),\n",
              " (54, 0.004195763368449785, 3.8055555555555554),\n",
              " (55, 0.005368352947838337, 3.790909090909091),\n",
              " (56, 0.006794205663451532, 3.7767857142857144),\n",
              " (57, 0.008512220201001898, 3.763157894736842),\n",
              " (58, 0.004975558567317606, 3.7844827586206895),\n",
              " (59, 0.003904050433428437, 3.788135593220339),\n",
              " (60, 0.0022169155153936113, 3.808333333333333),\n",
              " (61, 0.0017134856636438817, 3.8114754098360657),\n",
              " (62, 0.0022185468321933607, 3.7983870967741935),\n",
              " (63, 0.0021667091142656882, 3.7936507936507935),\n",
              " (64, 0.0021155742986059037, 3.7890625),\n",
              " (65, 0.001638169688311084, 3.792307692307692),\n",
              " (66, 0.002112904717074153, 3.7803030303030303),\n",
              " (67, 0.0016391796508841768, 3.783582089552239),\n",
              " (68, 0.002107877006211813, 3.7720588235294117),\n",
              " (69, 0.001638208006937132, 3.7753623188405796),\n",
              " (70, 0.0012667046775475992, 3.7785714285714285),\n",
              " (71, 0.0022426047709492537, 3.76056338028169),\n",
              " (72, 0.0017525084760790894, 3.763888888888889),\n",
              " (73, 0.0011365250751412, 3.7739726027397262),\n",
              " (74, 0.0006361085905667348, 3.7905405405405403),\n",
              " (75, 0.00035042445221225517, 3.8066666666666666),\n",
              " (76, 0.00021841519783205381, 3.8157894736842106),\n",
              " (77, 0.0002133389727594162, 3.811688311688312),\n",
              " (78, 0.0001607423772756106, 3.8141025641025643),\n",
              " (79, 0.00012053616176043722, 3.8164556962025316),\n",
              " (80, 6.355135417245393e-05, 3.83125),\n",
              " (81, 3.300722928041108e-05, 3.845679012345679),\n",
              " (82, 3.2304003745802037e-05, 3.841463414634146),\n",
              " (83, 2.374556884407959e-05, 3.8433734939759034),\n",
              " (84, 1.2077073301628071e-05, 3.857142857142857),\n",
              " (85, 1.7088673225760976e-05, 3.847058823529412),\n",
              " (86, 3.608185615666001e-05, 3.8313953488372094),\n",
              " (87, 2.681257612846113e-05, 3.8333333333333335),\n",
              " (88, 3.681562512354262e-05, 3.8238636363636362),\n",
              " (89, 7.313870608516293e-05, 3.808988764044944),\n",
              " (90, 5.525606847923858e-05, 3.811111111111111),\n",
              " (91, 4.1572170968967595e-05, 3.8131868131868134),\n",
              " (92, 2.540508532221419e-05, 3.8206521739130435),\n",
              " (93, 1.891161316381205e-05, 3.8225806451612905),\n",
              " (94, 1.4019284811900051e-05, 3.824468085106383),\n",
              " (95, 1.9300245184706242e-05, 3.8157894736842106),\n",
              " (96, 1.4337154349835086e-05, 3.8177083333333335),\n",
              " (97, 7.470440358184904e-06, 3.829896907216495),\n",
              " (98, 3.843679820388642e-06, 3.8418367346938775),\n",
              " (99, 1.3101881021708747e-05, 3.823232323232323),\n",
              " (100, 1.773810320525232e-05, 3.815),\n",
              " (101, 5.156319239792069e-05, 3.797029702970297),\n",
              " (102, 3.956916550250529e-05, 3.799019607843137),\n",
              " (103, 0.00010532490098882295, 3.7815533980582523),\n",
              " (104, 8.207340957567451e-05, 3.7836538461538463),\n",
              " (105, 6.373666797007717e-05, 3.7857142857142856),\n",
              " (106, 4.9327620681370155e-05, 3.7877358490566038),\n",
              " (107, 3.158510492524062e-05, 3.794392523364486),\n",
              " (108, 5.741195652105531e-05, 3.7824074074074074),\n",
              " (109, 4.452063805181686e-05, 3.7844036697247705),\n",
              " (110, 2.5034997999585643e-05, 3.7954545454545454),\n",
              " (111, 1.593383648900579e-05, 3.8018018018018016),\n",
              " (112, 1.2181676067708934e-05, 3.8035714285714284),\n",
              " (113, 9.282385148662153e-06, 3.8053097345132745),\n",
              " (114, 7.049800097807919e-06, 3.807017543859649),\n",
              " (115, 5.336512954125956e-06, 3.8086956521739133),\n",
              " (116, 7.132420343988585e-06, 3.8017241379310347),\n",
              " (117, 3.8777239631651985e-06, 3.8119658119658117),\n",
              " (118, 3.789024541840527e-06, 3.809322033898305),\n",
              " (119, 3.701652394675697e-06, 3.80672268907563),\n",
              " (120, 3.6156244484077226e-06, 3.8041666666666667),\n",
              " (121, 2.234409015059164e-06, 3.809917355371901),\n",
              " (122, 1.1935921381583365e-06, 3.819672131147541),\n",
              " (123, 8.907771906449635e-07, 3.821138211382114),\n",
              " (124, 1.2165528009735344e-06, 3.814516129032258),\n",
              " (125, 1.6492029231809994e-06, 3.808),\n",
              " (126, 1.2383902023580329e-06, 3.8095238095238093),\n",
              " (127, 2.4447090501870245e-06, 3.7992125984251968),\n",
              " (128, 1.3259626346058774e-06, 3.80859375),\n",
              " (129, 1.7799716841358229e-06, 3.802325581395349),\n",
              " (130, 5.106740278151876e-06, 3.7884615384615383),\n",
              " (131, 4.986913728968981e-06, 3.786259541984733),\n",
              " (132, 2.7799402746913627e-06, 3.7954545454545454),\n",
              " (133, 2.715247214619515e-06, 3.793233082706767),\n",
              " (134, 2.075872794199074e-06, 3.794776119402985),\n",
              " (135, 3.869818273690176e-06, 3.785185185185185),\n",
              " (136, 2.9771501112494567e-06, 3.786764705882353),\n",
              " (137, 2.906855295169462e-06, 3.7846715328467155),\n",
              " (138, 2.229978257172786e-06, 3.786231884057971),\n",
              " (139, 2.923020543496903e-06, 3.7805755395683454),\n",
              " (140, 1.861736987479408e-06, 3.7857142857142856),\n",
              " (141, 2.441850783063681e-06, 3.780141843971631),\n",
              " (142, 1.8743496554091788e-06, 3.7816901408450705),\n",
              " (143, 1.4348129269825041e-06, 3.7832167832167833),\n",
              " (144, 1.0953489095524478e-06, 3.7847222222222223),\n",
              " (145, 8.33914593413763e-07, 3.786206896551724),\n",
              " (146, 4.5654100105346796e-07, 3.7945205479452055),\n",
              " (147, 2.4781068087348057e-07, 3.802721088435374),\n",
              " (148, 1.8647631467675183e-07, 3.804054054054054),\n",
              " (149, 1.3994497318116365e-07, 3.8053691275167787),\n",
              " (150, 1.0474187906210276e-07, 3.8066666666666666),\n",
              " (151, 5.5638738167742754e-08, 3.814569536423841),\n",
              " (152, 2.9310557354650833e-08, 3.8223684210526314),\n",
              " (153, 2.169106984430368e-08, 3.823529411764706),\n",
              " (154, 1.296533237512879e-08, 3.8279220779220777),\n",
              " (155, 6.69721358751862e-09, 3.835483870967742),\n",
              " (156, 4.90242789582791e-09, 3.8365384615384617),\n",
              " (157, 3.579198670373318e-09, 3.837579617834395),\n",
              " (158, 5.065038279328382e-09, 3.8322784810126582),\n",
              " (159, 2.593122661980238e-09, 3.839622641509434),\n",
              " (160, 1.888254008877338e-09, 3.840625),\n",
              " (161, 6.89862648428305e-09, 3.829192546583851),\n",
              " (162, 5.088654193995244e-09, 3.830246913580247),\n",
              " (163, 3.744165106538347e-09, 3.831288343558282),\n",
              " (164, 5.23409616911476e-09, 3.826219512195122),\n",
              " (165, 2.715045381204715e-09, 3.8333333333333335),\n",
              " (166, 1.9924856311040464e-09, 3.8343373493975905),\n",
              " (167, 1.021658248002295e-09, 3.841317365269461),\n",
              " (168, 5.986014433616568e-10, 3.8452380952380953),\n",
              " (169, 3.026046512497991e-10, 3.8520710059171597),\n",
              " (170, 2.9667891226340393e-10, 3.85),\n",
              " (171, 2.1473424779915278e-10, 3.8508771929824563),\n",
              " (172, 3.087411923363227e-10, 3.8459302325581395),\n",
              " (173, 1.7917893544489147e-10, 3.8497109826589595),\n",
              " (174, 1.2939702905988413e-10, 3.8505747126436782),\n",
              " (175, 7.437375301814674e-11, 3.854285714285714),\n",
              " (176, 3.68536489501502e-11, 3.8607954545454546),\n",
              " (177, 1.8128994549484078e-11, 3.867231638418079),\n",
              " (178, 1.0226884113071301e-11, 3.8707865168539324),\n",
              " (179, 2.476407211840968e-11, 3.863128491620112),\n",
              " (180, 1.7738569534234892e-11, 3.863888888888889),\n",
              " (181, 8.709233016873075e-12, 3.8701657458563536),\n",
              " (182, 6.201886620364462e-12, 3.870879120879121),\n",
              " (183, 9.186029818083115e-12, 3.866120218579235),\n",
              " (184, 6.5513651601619266e-12, 3.8668478260869565),\n",
              " (185, 3.688482306426001e-12, 3.8702702702702703),\n",
              " (186, 1.787257905280176e-12, 3.8763440860215055),\n",
              " (187, 8.600037830948384e-13, 3.8823529411764706),\n",
              " (188, 6.056150219694947e-13, 3.882978723404255),\n",
              " (189, 4.2551292144889585e-13, 3.8835978835978837),\n",
              " (190, 2.3370424038676717e-13, 3.886842105263158),\n",
              " (191, 1.6326985261947053e-13, 3.887434554973822),\n",
              " (192, 1.1380629973295943e-13, 3.8880208333333335),\n",
              " (193, 7.91493424125946e-14, 3.88860103626943),\n",
              " (194, 4.278258438283099e-14, 3.8917525773195876),\n",
              " (195, 2.958555465053198e-14, 3.8923076923076922),\n",
              " (196, 4.623476152843946e-14, 3.8877551020408165),\n",
              " (197, 2.493280074064741e-14, 3.8908629441624365),\n",
              " (198, 1.3370684043107038e-14, 3.893939393939394),\n",
              " (199, 6.160613753635314e-15, 3.899497487437186),\n",
              " (200, 9.749074156510373e-15, 3.895),\n",
              " (201, 6.7127681104016146e-15, 3.8955223880597014),\n",
              " (202, 4.6119520070165714e-15, 3.896039603960396),\n",
              " (203, 3.1616414709692205e-15, 3.896551724137931),\n",
              " (204, 1.443848995257856e-15, 3.9019607843137254),\n",
              " (205, 2.309845735394206e-15, 3.897560975609756),\n",
              " (206, 1.0555998801123747e-15, 3.9029126213592233),\n",
              " (207, 4.793088683620973e-16, 3.9082125603864735),\n",
              " (208, 3.2609910418318076e-16, 3.9086538461538463),\n",
              " (209, 1.466694033719233e-16, 3.9138755980861246),\n",
              " (210, 9.927030087378508e-17, 3.914285714285714),\n",
              " (211, 6.704625749290763e-17, 3.914691943127962),\n",
              " (212, 4.518611521397103e-17, 3.9150943396226414),\n",
              " (213, 3.038859398683116e-17, 3.915492957746479),\n",
              " (214, 1.3418325209316871e-17, 3.9205607476635516)]"
            ]
          },
          "metadata": {
            "tags": []
          },
          "execution_count": 51
        }
      ]
    },
    {
      "cell_type": "code",
      "metadata": {
        "id": "2YgUOusv3hq2",
        "colab_type": "code",
        "colab": {}
      },
      "source": [
        "valores = np.array(promedios)"
      ],
      "execution_count": 0,
      "outputs": []
    },
    {
      "cell_type": "code",
      "metadata": {
        "id": "Dl9Qpe-C4LQ6",
        "colab_type": "code",
        "outputId": "ce1b21b3-5071-425c-d42a-f32b6e47f8f0",
        "colab": {
          "base_uri": "https://localhost:8080/",
          "height": 283
        }
      },
      "source": [
        "plt.plot(valores[:,0],valores[:,1])\n",
        "plt.plot(valores[:,0],valores[:,2])\n",
        "plt.hlines(y = 0.05, xmin = 2, xmax = len(temp), colors = \"g\", linestyles= \"dashdot\")"
      ],
      "execution_count": 0,
      "outputs": [
        {
          "output_type": "execute_result",
          "data": {
            "text/plain": [
              "<matplotlib.collections.LineCollection at 0x7f208f10bef0>"
            ]
          },
          "metadata": {
            "tags": []
          },
          "execution_count": 53
        },
        {
          "output_type": "display_data",
          "data": {
            "image/png": "[encoded data removed]",
            "text/plain": [
              "<Figure size 432x288 with 1 Axes>"
            ]
          },
          "metadata": {
            "tags": []
          }
        }
      ]
    },
    {
      "cell_type": "code",
      "metadata": {
        "id": "FeAEXJhKFtih",
        "colab_type": "code",
        "outputId": "453f3182-d218-4353-f219-c43e5c66a8cf",
        "colab": {
          "base_uri": "https://localhost:8080/",
          "height": 35
        }
      },
      "source": [
        "zconfint(notas1.rating,notas.rating)"
      ],
      "execution_count": 0,
      "outputs": [
        {
          "output_type": "execute_result",
          "data": {
            "text/plain": [
              "(0.2799245129192442, 0.5588219849631111)"
            ]
          },
          "metadata": {
            "tags": []
          },
          "execution_count": 54
        }
      ]
    },
    {
      "cell_type": "code",
      "metadata": {
        "id": "_C-rK63MF1J7",
        "colab_type": "code",
        "outputId": "7bf130a2-ed87-42ca-ff80-207ade7ead2b",
        "colab": {
          "base_uri": "https://localhost:8080/",
          "height": 35
        }
      },
      "source": [
        "ztest(notas1.rating,notas.rating)"
      ],
      "execution_count": 0,
      "outputs": [
        {
          "output_type": "execute_result",
          "data": {
            "text/plain": [
              "(5.894327101501841, 3.762112778881965e-09)"
            ]
          },
          "metadata": {
            "tags": []
          },
          "execution_count": 55
        }
      ]
    },
    {
      "cell_type": "code",
      "metadata": {
        "id": "eMpBmw9VGHJM",
        "colab_type": "code",
        "outputId": "243eed40-ec86-46e6-f419-d4e3e8870f5c",
        "colab": {
          "base_uri": "https://localhost:8080/",
          "height": 35
        }
      },
      "source": [
        "zconfint(notas.rating,notas1.rating)"
      ],
      "execution_count": 0,
      "outputs": [
        {
          "output_type": "execute_result",
          "data": {
            "text/plain": [
              "(-0.5588219849631111, -0.2799245129192442)"
            ]
          },
          "metadata": {
            "tags": []
          },
          "execution_count": 56
        }
      ]
    },
    {
      "cell_type": "code",
      "metadata": {
        "id": "4gsv_LbcGPM8",
        "colab_type": "code",
        "outputId": "079768ce-0cb3-458c-a4ea-ac20ea830a0f",
        "colab": {
          "base_uri": "https://localhost:8080/",
          "height": 35
        }
      },
      "source": [
        "from scipy.stats import ttest_ind\n",
        "\n",
        "ttest_ind(notas1.rating,notas.rating)"
      ],
      "execution_count": 0,
      "outputs": [
        {
          "output_type": "execute_result",
          "data": {
            "text/plain": [
              "Ttest_indResult(statistic=5.894327101501841, pvalue=3.774003138720876e-09)"
            ]
          },
          "metadata": {
            "tags": []
          },
          "execution_count": 57
        }
      ]
    },
    {
      "cell_type": "code",
      "metadata": {
        "id": "OcbxidNBGj8q",
        "colab_type": "code",
        "outputId": "b04e0490-da63-47cc-89f0-3ceda181e22d",
        "colab": {
          "base_uri": "https://localhost:8080/",
          "height": 78
        }
      },
      "source": [
        "from statsmodels.stats.weightstats import DescrStatsW\n",
        "\n",
        "descr_todas_las_notas = DescrStatsW(notas.rating)\n",
        "descr_toy_story = DescrStatsW(notas1.rating)\n",
        "\n",
        "comparacion = descr_todas_las_notas.get_compare(descr_toy_story)\n",
        "\n",
        "comparacion.summary()"
      ],
      "execution_count": 0,
      "outputs": [
        {
          "output_type": "execute_result",
          "data": {
            "text/html": [
              "<table class=\"simpletable\">\n",
              "<caption>Test for equality of means</caption>\n",
              "<tr>\n",
              "      <td></td>         <th>coef</th>     <th>std err</th>      <th>t</th>      <th>P>|t|</th>  <th>[0.025</th>    <th>0.975]</th>  \n",
              "</tr>\n",
              "<tr>\n",
              "  <th>subset #1</th> <td>   -0.4194</td> <td>    0.071</td> <td>   -5.894</td> <td> 0.000</td> <td>   -0.559</td> <td>   -0.280</td>\n",
              "</tr>\n",
              "</table>"
            ],
            "text/plain": [
              "<class 'statsmodels.iolib.table.SimpleTable'>"
            ]
          },
          "metadata": {
            "tags": []
          },
          "execution_count": 58
        }
      ]
    },
    {
      "cell_type": "code",
      "metadata": {
        "id": "OB3WWJZFHE78",
        "colab_type": "code",
        "outputId": "431ac788-ba69-444a-b125-e8413dd3ec33",
        "colab": {
          "base_uri": "https://localhost:8080/",
          "height": 78
        }
      },
      "source": [
        "from statsmodels.stats.weightstats import DescrStatsW\n",
        "\n",
        "descr_todas_las_notas = DescrStatsW(notas.rating)\n",
        "descr_toy_story = DescrStatsW(notas1.rating)\n",
        "\n",
        "comparacion = descr_todas_las_notas.get_compare(descr_toy_story)\n",
        "\n",
        "comparacion.summary(use_t=True)"
      ],
      "execution_count": 0,
      "outputs": [
        {
          "output_type": "execute_result",
          "data": {
            "text/html": [
              "<table class=\"simpletable\">\n",
              "<caption>Test for equality of means</caption>\n",
              "<tr>\n",
              "      <td></td>         <th>coef</th>     <th>std err</th>      <th>t</th>      <th>P>|t|</th>  <th>[0.025</th>    <th>0.975]</th>  \n",
              "</tr>\n",
              "<tr>\n",
              "  <th>subset #1</th> <td>   -0.4194</td> <td>    0.071</td> <td>   -5.894</td> <td> 0.000</td> <td>   -0.559</td> <td>   -0.280</td>\n",
              "</tr>\n",
              "</table>"
            ],
            "text/plain": [
              "<class 'statsmodels.iolib.table.SimpleTable'>"
            ]
          },
          "metadata": {
            "tags": []
          },
          "execution_count": 59
        }
      ]
    },
    {
      "cell_type": "code",
      "metadata": {
        "id": "s6eDQ6XC6w1L",
        "colab_type": "code",
        "outputId": "ce6e3a23-8f2a-43fc-bbe7-4d22639e9567",
        "colab": {
          "base_uri": "https://localhost:8080/",
          "height": 299
        }
      },
      "source": [
        "import matplotlib.pyplot as plt \n",
        "plt.boxplot([notas.rating,notas1.rating],labels = [\"Notas general\", \"Notas de Toy Story\"])\n",
        "plt.title(\"Distribucion de todas las notas y de Toy Story\")"
      ],
      "execution_count": 0,
      "outputs": [
        {
          "output_type": "execute_result",
          "data": {
            "text/plain": [
              "Text(0.5, 1.0, 'Distribucion de todas las notas y de Toy Story')"
            ]
          },
          "metadata": {
            "tags": []
          },
          "execution_count": 60
        },
        {
          "output_type": "display_data",
          "data": {
            "image/png": "[encoded data removed]",
            "text/plain": [
              "<Figure size 432x288 with 1 Axes>"
            ]
          },
          "metadata": {
            "tags": []
          }
        }
      ]
    },
    {
      "cell_type": "code",
      "metadata": {
        "id": "G9Py2fop7TS_",
        "colab_type": "code",
        "outputId": "c6b033d9-7527-47b9-8483-0dd740b97908",
        "colab": {
          "base_uri": "https://localhost:8080/",
          "height": 299
        }
      },
      "source": [
        "import matplotlib.pyplot as plt \n",
        "plt.boxplot([notas.rating,notas1[3:12].rating],labels = [\"Notas general\", \"Notas de Toy Story 3 al 12\"])\n",
        "plt.title(\"Distribucion de todas las notas y de Toy Story del 3 al 12\")"
      ],
      "execution_count": 0,
      "outputs": [
        {
          "output_type": "execute_result",
          "data": {
            "text/plain": [
              "Text(0.5, 1.0, 'Distribucion de todas las notas y de Toy Story del 3 al 12')"
            ]
          },
          "metadata": {
            "tags": []
          },
          "execution_count": 61
        },
        {
          "output_type": "display_data",
          "data": {
            "image/png": "[encoded data removed]",
            "text/plain": [
              "<Figure size 432x288 with 1 Axes>"
            ]
          },
          "metadata": {
            "tags": []
          }
        }
      ]
    },
    {
      "cell_type": "code",
      "metadata": {
        "id": "YCd9_CEM7wi6",
        "colab_type": "code",
        "outputId": "81dbd41d-c948-49f0-ee69-26aad32d34be",
        "colab": {
          "base_uri": "https://localhost:8080/",
          "height": 78
        }
      },
      "source": [
        "descr_todas_las_notas = DescrStatsW(notas.rating)\n",
        "descr_toy_story_3_12 = DescrStatsW(notas1[3:12].rating)\n",
        "\n",
        "comparacion = descr_todas_las_notas.get_compare(descr_toy_story_3_12)\n",
        "\n",
        "comparacion.summary(use_t=True)"
      ],
      "execution_count": 0,
      "outputs": [
        {
          "output_type": "execute_result",
          "data": {
            "text/html": [
              "<table class=\"simpletable\">\n",
              "<caption>Test for equality of means</caption>\n",
              "<tr>\n",
              "      <td></td>         <th>coef</th>     <th>std err</th>      <th>t</th>      <th>P>|t|</th>  <th>[0.025</th>    <th>0.975]</th>  \n",
              "</tr>\n",
              "<tr>\n",
              "  <th>subset #1</th> <td>   -0.0540</td> <td>    0.348</td> <td>   -0.155</td> <td> 0.877</td> <td>   -0.735</td> <td>    0.627</td>\n",
              "</tr>\n",
              "</table>"
            ],
            "text/plain": [
              "<class 'statsmodels.iolib.table.SimpleTable'>"
            ]
          },
          "metadata": {
            "tags": []
          },
          "execution_count": 62
        }
      ]
    },
    {
      "cell_type": "code",
      "metadata": {
        "id": "-2m2nJlTRF3f",
        "colab_type": "code",
        "outputId": "a23086b1-0b78-4a3f-9666-111fbf983d11",
        "colab": {
          "base_uri": "https://localhost:8080/",
          "height": 138
        }
      },
      "source": [
        "peliculas.query(\"movieId in (1,593,72226)\")"
      ],
      "execution_count": 0,
      "outputs": [
        {
          "output_type": "execute_result",
          "data": {
            "text/html": [
              "<div>\n",
              "<style scoped>\n",
              "    .dataframe tbody tr th:only-of-type {\n",
              "        vertical-align: middle;\n",
              "    }\n",
              "\n",
              "    .dataframe tbody tr th {\n",
              "        vertical-align: top;\n",
              "    }\n",
              "\n",
              "    .dataframe thead th {\n",
              "        text-align: right;\n",
              "    }\n",
              "</style>\n",
              "<table border=\"1\" class=\"dataframe\">\n",
              "  <thead>\n",
              "    <tr style=\"text-align: right;\">\n",
              "      <th></th>\n",
              "      <th>movieId</th>\n",
              "      <th>title</th>\n",
              "      <th>genres</th>\n",
              "    </tr>\n",
              "  </thead>\n",
              "  <tbody>\n",
              "    <tr>\n",
              "      <th>0</th>\n",
              "      <td>1</td>\n",
              "      <td>Toy Story (1995)</td>\n",
              "      <td>Adventure|Animation|Children|Comedy|Fantasy</td>\n",
              "    </tr>\n",
              "    <tr>\n",
              "      <th>510</th>\n",
              "      <td>593</td>\n",
              "      <td>Silence of the Lambs, The (1991)</td>\n",
              "      <td>Crime|Horror|Thriller</td>\n",
              "    </tr>\n",
              "    <tr>\n",
              "      <th>7180</th>\n",
              "      <td>72226</td>\n",
              "      <td>Fantastic Mr. Fox (2009)</td>\n",
              "      <td>Adventure|Animation|Children|Comedy|Crime</td>\n",
              "    </tr>\n",
              "  </tbody>\n",
              "</table>\n",
              "</div>"
            ],
            "text/plain": [
              "      movieId  ...                                       genres\n",
              "0           1  ...  Adventure|Animation|Children|Comedy|Fantasy\n",
              "510       593  ...                        Crime|Horror|Thriller\n",
              "7180    72226  ...    Adventure|Animation|Children|Comedy|Crime\n",
              "\n",
              "[3 rows x 3 columns]"
            ]
          },
          "metadata": {
            "tags": []
          },
          "execution_count": 77
        }
      ]
    },
    {
      "cell_type": "code",
      "metadata": {
        "id": "bqWAi5zhRSxD",
        "colab_type": "code",
        "colab": {}
      },
      "source": [
        "notas1 = notas.query(\"movieId == 1\")\n",
        "notas593 = notas.query(\"movieId == 593\")\n",
        "notas72226 = notas.query(\"movieId == 72226\")"
      ],
      "execution_count": 0,
      "outputs": []
    },
    {
      "cell_type": "code",
      "metadata": {
        "id": "cYa7ZtgGRurM",
        "colab_type": "code",
        "outputId": "1b8eabc3-41e4-49eb-df4c-79a4bb241672",
        "colab": {
          "base_uri": "https://localhost:8080/",
          "height": 665
        }
      },
      "source": [
        "import matplotlib.pyplot as plt\n",
        "\n",
        "plt.boxplot([notas1.rating,notas593.rating,notas72226.rating],\n",
        "            labels = [\"Toy Story\",\"Silence of the Lambs\",\"Fantastic Mr. Fox\"])"
      ],
      "execution_count": 0,
      "outputs": [
        {
          "output_type": "execute_result",
          "data": {
            "text/plain": [
              "{'boxes': [<matplotlib.lines.Line2D at 0x7f208a6a1358>,\n",
              "  <matplotlib.lines.Line2D at 0x7f208a6b29e8>,\n",
              "  <matplotlib.lines.Line2D at 0x7f208a6c9160>],\n",
              " 'caps': [<matplotlib.lines.Line2D at 0x7f208a6a1cc0>,\n",
              "  <matplotlib.lines.Line2D at 0x7f208a6b2048>,\n",
              "  <matplotlib.lines.Line2D at 0x7f208a6bc438>,\n",
              "  <matplotlib.lines.Line2D at 0x7f208a6bc780>,\n",
              "  <matplotlib.lines.Line2D at 0x7f208a6c9b70>,\n",
              "  <matplotlib.lines.Line2D at 0x7f208a6c9eb8>],\n",
              " 'fliers': [<matplotlib.lines.Line2D at 0x7f208a6b26d8>,\n",
              "  <matplotlib.lines.Line2D at 0x7f208a6bce10>,\n",
              "  <matplotlib.lines.Line2D at 0x7f208a6d5588>],\n",
              " 'means': [],\n",
              " 'medians': [<matplotlib.lines.Line2D at 0x7f208a6b2390>,\n",
              "  <matplotlib.lines.Line2D at 0x7f208a6bcac8>,\n",
              "  <matplotlib.lines.Line2D at 0x7f208a6d5240>],\n",
              " 'whiskers': [<matplotlib.lines.Line2D at 0x7f208a6a1630>,\n",
              "  <matplotlib.lines.Line2D at 0x7f208a6a1978>,\n",
              "  <matplotlib.lines.Line2D at 0x7f208a6b2d68>,\n",
              "  <matplotlib.lines.Line2D at 0x7f208a6bc0f0>,\n",
              "  <matplotlib.lines.Line2D at 0x7f208a6c94e0>,\n",
              "  <matplotlib.lines.Line2D at 0x7f208a6c9828>]}"
            ]
          },
          "metadata": {
            "tags": []
          },
          "execution_count": 81
        },
        {
          "output_type": "display_data",
          "data": {
            "image/png": "[encoded data removed]",
            "text/plain": [
              "<Figure size 432x288 with 1 Axes>"
            ]
          },
          "metadata": {
            "tags": []
          }
        }
      ]
    },
    {
      "cell_type": "code",
      "metadata": {
        "id": "Rh9dX-T6SM7P",
        "colab_type": "code",
        "outputId": "fc4b9b5e-71f1-48b5-f826-3caa48ba7827",
        "colab": {
          "base_uri": "https://localhost:8080/",
          "height": 297
        }
      },
      "source": [
        "import seaborn as sns\n",
        "sns.boxplot(x=\"movieId\",y=\"rating\",data = notas.query(\"movieId in (1,593,72226)\"))\n"
      ],
      "execution_count": 0,
      "outputs": [
        {
          "output_type": "execute_result",
          "data": {
            "text/plain": [
              "<matplotlib.axes._subplots.AxesSubplot at 0x7f208a6a1470>"
            ]
          },
          "metadata": {
            "tags": []
          },
          "execution_count": 82
        },
        {
          "output_type": "display_data",
          "data": {
            "image/png": "[encoded data removed]",
            "text/plain": [
              "<Figure size 432x288 with 1 Axes>"
            ]
          },
          "metadata": {
            "tags": []
          }
        }
      ]
    },
    {
      "cell_type": "code",
      "metadata": {
        "id": "sM5AQ6zdSxiV",
        "colab_type": "code",
        "outputId": "1bbbb3ce-c6ee-499c-beee-fc7b58d84093",
        "colab": {
          "base_uri": "https://localhost:8080/",
          "height": 168
        }
      },
      "source": [
        "notas.query(\"movieId in (1,593,72226)\").groupby(\"movieId\").count()"
      ],
      "execution_count": 0,
      "outputs": [
        {
          "output_type": "execute_result",
          "data": {
            "text/html": [
              "<div>\n",
              "<style scoped>\n",
              "    .dataframe tbody tr th:only-of-type {\n",
              "        vertical-align: middle;\n",
              "    }\n",
              "\n",
              "    .dataframe tbody tr th {\n",
              "        vertical-align: top;\n",
              "    }\n",
              "\n",
              "    .dataframe thead th {\n",
              "        text-align: right;\n",
              "    }\n",
              "</style>\n",
              "<table border=\"1\" class=\"dataframe\">\n",
              "  <thead>\n",
              "    <tr style=\"text-align: right;\">\n",
              "      <th></th>\n",
              "      <th>userId</th>\n",
              "      <th>rating</th>\n",
              "      <th>timestamp</th>\n",
              "    </tr>\n",
              "    <tr>\n",
              "      <th>movieId</th>\n",
              "      <th></th>\n",
              "      <th></th>\n",
              "      <th></th>\n",
              "    </tr>\n",
              "  </thead>\n",
              "  <tbody>\n",
              "    <tr>\n",
              "      <th>1</th>\n",
              "      <td>215</td>\n",
              "      <td>215</td>\n",
              "      <td>215</td>\n",
              "    </tr>\n",
              "    <tr>\n",
              "      <th>593</th>\n",
              "      <td>279</td>\n",
              "      <td>279</td>\n",
              "      <td>279</td>\n",
              "    </tr>\n",
              "    <tr>\n",
              "      <th>72226</th>\n",
              "      <td>18</td>\n",
              "      <td>18</td>\n",
              "      <td>18</td>\n",
              "    </tr>\n",
              "  </tbody>\n",
              "</table>\n",
              "</div>"
            ],
            "text/plain": [
              "         userId  rating  timestamp\n",
              "movieId                           \n",
              "1           215     215        215\n",
              "593         279     279        279\n",
              "72226        18      18         18"
            ]
          },
          "metadata": {
            "tags": []
          },
          "execution_count": 83
        }
      ]
    },
    {
      "cell_type": "code",
      "metadata": {
        "id": "ETDrubg_TJwc",
        "colab_type": "code",
        "outputId": "52f4b4cc-830e-4193-e5a7-4c2d88719e3a",
        "colab": {
          "base_uri": "https://localhost:8080/",
          "height": 78
        }
      },
      "source": [
        "#1 vs 593 \n",
        "from statsmodels.stats.weightstats import DescrStatsW\n",
        "\n",
        "descr_1 = DescrStatsW(notas1.rating)\n",
        "descr_593 = DescrStatsW(notas593.rating)\n",
        "\n",
        "comparacion = descr_1.get_compare(descr_593)\n",
        "comparacion.summary()"
      ],
      "execution_count": 0,
      "outputs": [
        {
          "output_type": "execute_result",
          "data": {
            "text/html": [
              "<table class=\"simpletable\">\n",
              "<caption>Test for equality of means</caption>\n",
              "<tr>\n",
              "      <td></td>         <th>coef</th>     <th>std err</th>      <th>t</th>      <th>P>|t|</th>  <th>[0.025</th>    <th>0.975]</th>  \n",
              "</tr>\n",
              "<tr>\n",
              "  <th>subset #1</th> <td>   -0.2404</td> <td>    0.077</td> <td>   -3.132</td> <td> 0.002</td> <td>   -0.391</td> <td>   -0.090</td>\n",
              "</tr>\n",
              "</table>"
            ],
            "text/plain": [
              "<class 'statsmodels.iolib.table.SimpleTable'>"
            ]
          },
          "metadata": {
            "tags": []
          },
          "execution_count": 84
        }
      ]
    },
    {
      "cell_type": "code",
      "metadata": {
        "id": "98IvRpDWUH_G",
        "colab_type": "code",
        "outputId": "f91f4a12-a4a5-4234-ee28-fdbe5f766351",
        "colab": {
          "base_uri": "https://localhost:8080/",
          "height": 78
        }
      },
      "source": [
        "#1 vs 72226 \n",
        "from statsmodels.stats.weightstats import DescrStatsW\n",
        "\n",
        "descr_1 = DescrStatsW(notas1.rating)\n",
        "descr_72226 = DescrStatsW(notas72226.rating)\n",
        "\n",
        "comparacion = descr_1.get_compare(descr_72226)\n",
        "comparacion.summary(use_t=True)"
      ],
      "execution_count": 0,
      "outputs": [
        {
          "output_type": "execute_result",
          "data": {
            "text/html": [
              "<table class=\"simpletable\">\n",
              "<caption>Test for equality of means</caption>\n",
              "<tr>\n",
              "      <td></td>         <th>coef</th>     <th>std err</th>      <th>t</th>      <th>P>|t|</th>  <th>[0.025</th>    <th>0.975]</th>  \n",
              "</tr>\n",
              "<tr>\n",
              "  <th>subset #1</th> <td>   -0.1624</td> <td>    0.206</td> <td>   -0.788</td> <td> 0.431</td> <td>   -0.568</td> <td>    0.243</td>\n",
              "</tr>\n",
              "</table>"
            ],
            "text/plain": [
              "<class 'statsmodels.iolib.table.SimpleTable'>"
            ]
          },
          "metadata": {
            "tags": []
          },
          "execution_count": 86
        }
      ]
    },
    {
      "cell_type": "code",
      "metadata": {
        "id": "kApVeItvUf94",
        "colab_type": "code",
        "outputId": "31b272e4-2b24-49bc-c6bf-555e4e40d145",
        "colab": {
          "base_uri": "https://localhost:8080/",
          "height": 78
        }
      },
      "source": [
        "#593 vs 72226 \n",
        "comparacion = descr_593.get_compare(descr_72226)\n",
        "comparacion.summary(use_t=True)"
      ],
      "execution_count": 0,
      "outputs": [
        {
          "output_type": "execute_result",
          "data": {
            "text/html": [
              "<table class=\"simpletable\">\n",
              "<caption>Test for equality of means</caption>\n",
              "<tr>\n",
              "      <td></td>         <th>coef</th>     <th>std err</th>      <th>t</th>      <th>P>|t|</th>  <th>[0.025</th>    <th>0.975]</th>  \n",
              "</tr>\n",
              "<tr>\n",
              "  <th>subset #1</th> <td>    0.0780</td> <td>    0.208</td> <td>    0.374</td> <td> 0.708</td> <td>   -0.332</td> <td>    0.488</td>\n",
              "</tr>\n",
              "</table>"
            ],
            "text/plain": [
              "<class 'statsmodels.iolib.table.SimpleTable'>"
            ]
          },
          "metadata": {
            "tags": []
          },
          "execution_count": 87
        }
      ]
    },
    {
      "cell_type": "code",
      "metadata": {
        "id": "7Uypoi0Cbpem",
        "colab_type": "code",
        "outputId": "3e310e3d-fb4d-4c60-c46c-7fafb46b691b",
        "colab": {
          "base_uri": "https://localhost:8080/",
          "height": 313
        }
      },
      "source": [
        "ax = sns.distplot(tmdb_10_o_mas_votos.vote_average)\n",
        "ax.set(xlabel = \"Nota Promedio\", ylabel = \"frecuencia\")\n",
        "ax.set_title(\"Grafico de distibución del Promedio de notas de TMDB\")"
      ],
      "execution_count": 0,
      "outputs": [
        {
          "output_type": "execute_result",
          "data": {
            "text/plain": [
              "Text(0.5, 1.0, 'Grafico de distibución del Promedio de notas de TMDB')"
            ]
          },
          "metadata": {
            "tags": []
          },
          "execution_count": 93
        },
        {
          "output_type": "display_data",
          "data": {
            "image/png": "[encoded data removed]",
            "text/plain": [
              "<Figure size 432x288 with 1 Axes>"
            ]
          },
          "metadata": {
            "tags": []
          }
        }
      ]
    },
    {
      "cell_type": "code",
      "metadata": {
        "id": "O1TabohDbyqn",
        "colab_type": "code",
        "outputId": "ef253679-45c7-4ad1-923b-47c563eb578e",
        "colab": {
          "base_uri": "https://localhost:8080/",
          "height": 313
        }
      },
      "source": [
        "ax = sns.distplot(nota_promedio_por_pelicula_10_o_mas_votos.values)\n",
        "ax.set(xlabel = \"Nota Promedio\", ylabel = \"densidad\")\n",
        "ax.set_title(\"Grafico de distibución del Promedio de notas de Movielens\")"
      ],
      "execution_count": 0,
      "outputs": [
        {
          "output_type": "execute_result",
          "data": {
            "text/plain": [
              "Text(0.5, 1.0, 'Grafico de distibución del Promedio de notas de Movielens')"
            ]
          },
          "metadata": {
            "tags": []
          },
          "execution_count": 94
        },
        {
          "output_type": "display_data",
          "data": {
            "image/png": "[encoded data removed]",
            "text/plain": [
              "<Figure size 432x288 with 1 Axes>"
            ]
          },
          "metadata": {
            "tags": []
          }
        }
      ]
    },
    {
      "cell_type": "code",
      "metadata": {
        "id": "8VKmpysqcH24",
        "colab_type": "code",
        "colab": {}
      },
      "source": [
        "from scipy.stats import normaltest\n",
        "\n"
      ],
      "execution_count": 0,
      "outputs": []
    },
    {
      "cell_type": "code",
      "metadata": {
        "id": "YbkB6qopcSr9",
        "colab_type": "code",
        "colab": {}
      },
      "source": [
        "stat, p = normaltest(notas1.rating)"
      ],
      "execution_count": 0,
      "outputs": []
    },
    {
      "cell_type": "code",
      "metadata": {
        "id": "8c_MUOWRcbAf",
        "colab_type": "code",
        "outputId": "d97929cc-74ff-4cad-8b3e-a9ee5b197eb5",
        "colab": {
          "base_uri": "https://localhost:8080/",
          "height": 35
        }
      },
      "source": [
        "p"
      ],
      "execution_count": 0,
      "outputs": [
        {
          "output_type": "execute_result",
          "data": {
            "text/plain": [
              "0.00011053430732728716"
            ]
          },
          "metadata": {
            "tags": []
          },
          "execution_count": 97
        }
      ]
    },
    {
      "cell_type": "code",
      "metadata": {
        "id": "YU6jZCJVccFQ",
        "colab_type": "code",
        "colab": {}
      },
      "source": [
        "from scipy.stats import ranksums\n"
      ],
      "execution_count": 0,
      "outputs": []
    },
    {
      "cell_type": "code",
      "metadata": {
        "id": "IpCsRUDQc2i-",
        "colab_type": "code",
        "colab": {}
      },
      "source": [
        "stat, p = ranksums(notas1.rating, notas593.rating)"
      ],
      "execution_count": 0,
      "outputs": []
    },
    {
      "cell_type": "code",
      "metadata": {
        "id": "Z1vaDFIrc9_d",
        "colab_type": "code",
        "outputId": "233792a9-ef4d-4e4b-fa04-d3409425f5ff",
        "colab": {
          "base_uri": "https://localhost:8080/",
          "height": 35
        }
      },
      "source": [
        "p"
      ],
      "execution_count": 0,
      "outputs": [
        {
          "output_type": "execute_result",
          "data": {
            "text/plain": [
              "0.0003267718756440693"
            ]
          },
          "metadata": {
            "tags": []
          },
          "execution_count": 100
        }
      ]
    },
    {
      "cell_type": "code",
      "metadata": {
        "id": "hWAGpSY3c-kB",
        "colab_type": "code",
        "colab": {}
      },
      "source": [
        "#Ho = las dos muestras tienen la misma distribucion \n",
        "#H1 = los valores de una muestra tienden a ser mayorres que la otra\n",
        "\n",
        "pValue < alpha --> No Ho\n",
        "\n",
        "pVlue < alpha --> Si H1, \n"
      ],
      "execution_count": 0,
      "outputs": []
    }
  ]
}